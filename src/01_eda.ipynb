{
 "cells": [
  {
   "cell_type": "markdown",
   "id": "64ed8138",
   "metadata": {},
   "source": [
    "# I.I Imports"
   ]
  },
  {
   "cell_type": "code",
   "execution_count": 1,
   "id": "21171eb5",
   "metadata": {},
   "outputs": [],
   "source": [
    "%%capture\n",
    "!pip install -U scikit-learn==1.4.2 imbalanced-learn==0.12.3"
   ]
  },
  {
   "cell_type": "code",
   "execution_count": 2,
   "id": "64dfceaf",
   "metadata": {},
   "outputs": [
    {
     "name": "stdout",
     "output_type": "stream",
     "text": [
      "pandas version: 2.3.3\n",
      "numpy version: 1.26.4\n",
      "sklearn version1.4.2\n",
      "imbleaern version0.12.3\n"
     ]
    }
   ],
   "source": [
    "import numpy as np\n",
    "import pandas as pd\n",
    "from pathlib import Path\n",
    "import warnings\n",
    "from matplotlib import pyplot as plt\n",
    "import seaborn as sns\n",
    "\n",
    "# Core ML\n",
    "import sklearn\n",
    "from sklearn.model_selection import train_test_split, StratifiedKFold, GridSearchCV\n",
    "from sklearn.metrics import f1_score, classification_report, confusion_matrix, roc_auc_score\n",
    "from sklearn.preprocessing import MinMaxScaler\n",
    "from sklearn.dummy import DummyClassifier\n",
    "from sklearn.linear_model import LogisticRegression, Ridge\n",
    "from sklearn.svm import SVC\n",
    "from sklearn.naive_bayes import GaussianNB\n",
    "from sklearn.tree import DecisionTreeClassifier\n",
    "from sklearn.ensemble import RandomForestClassifier, GradientBoostingClassifier, AdaBoostClassifier\n",
    "from sklearn.feature_selection import RFE\n",
    "from sklearn.pipeline import Pipeline\n",
    "\n",
    "\n",
    "# Imputation (MICE-like)\n",
    "from sklearn.experimental import enable_iterative_imputer  # noqa: F401\n",
    "from sklearn.impute import SimpleImputer, IterativeImputer\n",
    "\n",
    "# Imbalanced learning\n",
    "import imblearn\n",
    "from imblearn.over_sampling import SMOTE\n",
    "from imblearn.under_sampling import RandomUnderSampler\n",
    "from imblearn.pipeline import Pipeline as ImbPipeline\n",
    "\n",
    "print(\"pandas version: \" + pd.__version__)\n",
    "print(\"numpy version: \"+ np.__version__)\n",
    "print(\"sklearn version\" + sklearn.__version__)\n",
    "print(\"imbleaern version\" + imblearn.__version__)\n",
    "\n",
    "from lightgbm import LGBMClassifier\n",
    "\n",
    "\n",
    "RANDOM_STATE = 42\n",
    "np.random.seed(RANDOM_STATE)\n",
    "\n",
    "%matplotlib inline\n",
    "%config IPCompleter.greedy=True\n",
    "warnings.filterwarnings('ignore')"
   ]
  },
  {
   "cell_type": "markdown",
   "id": "c398e5c9",
   "metadata": {},
   "source": [
    "# I.II Data Audit and Cleaning"
   ]
  },
  {
   "cell_type": "code",
   "execution_count": 3,
   "id": "3f1ed770",
   "metadata": {},
   "outputs": [],
   "source": [
    "Path().mkdir(exist_ok=True, parents=True)"
   ]
  },
  {
   "cell_type": "code",
   "execution_count": 4,
   "id": "b7395bb9",
   "metadata": {},
   "outputs": [
    {
     "data": {
      "text/plain": [
       "PosixPath('/Users/berkcalisir/School&Career/school-docs/Challenge@Stellantis/Challenge-Stellantis---CarGuardians/src')"
      ]
     },
     "execution_count": 4,
     "metadata": {},
     "output_type": "execute_result"
    }
   ],
   "source": [
    "Path.cwd()"
   ]
  },
  {
   "cell_type": "markdown",
   "id": "94d1aa62",
   "metadata": {},
   "source": [
    "When loading we replace \"na\" with null values."
   ]
  },
  {
   "cell_type": "code",
   "execution_count": 5,
   "id": "a0a8d4bf",
   "metadata": {},
   "outputs": [],
   "source": [
    "train = pd.read_csv('./dataset/aps_failure_training_set.csv', na_values='na')\n",
    "test  = pd.read_csv('./dataset/aps_failure_test_set.csv',    na_values='na')"
   ]
  },
  {
   "cell_type": "code",
   "execution_count": 6,
   "id": "f8a41f10",
   "metadata": {},
   "outputs": [
    {
     "data": {
      "text/html": [
       "<div>\n",
       "<style scoped>\n",
       "    .dataframe tbody tr th:only-of-type {\n",
       "        vertical-align: middle;\n",
       "    }\n",
       "\n",
       "    .dataframe tbody tr th {\n",
       "        vertical-align: top;\n",
       "    }\n",
       "\n",
       "    .dataframe thead th {\n",
       "        text-align: right;\n",
       "    }\n",
       "</style>\n",
       "<table border=\"1\" class=\"dataframe\">\n",
       "  <thead>\n",
       "    <tr style=\"text-align: right;\">\n",
       "      <th></th>\n",
       "      <th>aa_000</th>\n",
       "      <th>ab_000</th>\n",
       "      <th>ac_000</th>\n",
       "      <th>ad_000</th>\n",
       "      <th>ae_000</th>\n",
       "      <th>af_000</th>\n",
       "      <th>ag_000</th>\n",
       "      <th>ag_001</th>\n",
       "      <th>ag_002</th>\n",
       "      <th>ag_003</th>\n",
       "      <th>...</th>\n",
       "      <th>ee_002</th>\n",
       "      <th>ee_003</th>\n",
       "      <th>ee_004</th>\n",
       "      <th>ee_005</th>\n",
       "      <th>ee_006</th>\n",
       "      <th>ee_007</th>\n",
       "      <th>ee_008</th>\n",
       "      <th>ee_009</th>\n",
       "      <th>ef_000</th>\n",
       "      <th>eg_000</th>\n",
       "    </tr>\n",
       "  </thead>\n",
       "  <tbody>\n",
       "    <tr>\n",
       "      <th>count</th>\n",
       "      <td>6.000000e+04</td>\n",
       "      <td>13671.000000</td>\n",
       "      <td>5.666500e+04</td>\n",
       "      <td>4.513900e+04</td>\n",
       "      <td>57500.000000</td>\n",
       "      <td>57500.000000</td>\n",
       "      <td>5.932900e+04</td>\n",
       "      <td>5.932900e+04</td>\n",
       "      <td>5.932900e+04</td>\n",
       "      <td>5.932900e+04</td>\n",
       "      <td>...</td>\n",
       "      <td>5.932900e+04</td>\n",
       "      <td>5.932900e+04</td>\n",
       "      <td>5.932900e+04</td>\n",
       "      <td>5.932900e+04</td>\n",
       "      <td>5.932900e+04</td>\n",
       "      <td>5.932900e+04</td>\n",
       "      <td>5.932900e+04</td>\n",
       "      <td>5.932900e+04</td>\n",
       "      <td>57276.000000</td>\n",
       "      <td>57277.000000</td>\n",
       "    </tr>\n",
       "    <tr>\n",
       "      <th>mean</th>\n",
       "      <td>5.933650e+04</td>\n",
       "      <td>0.713189</td>\n",
       "      <td>3.560143e+08</td>\n",
       "      <td>1.906206e+05</td>\n",
       "      <td>6.819130</td>\n",
       "      <td>11.006817</td>\n",
       "      <td>2.216364e+02</td>\n",
       "      <td>9.757223e+02</td>\n",
       "      <td>8.606015e+03</td>\n",
       "      <td>8.859128e+04</td>\n",
       "      <td>...</td>\n",
       "      <td>4.454897e+05</td>\n",
       "      <td>2.111264e+05</td>\n",
       "      <td>4.457343e+05</td>\n",
       "      <td>3.939462e+05</td>\n",
       "      <td>3.330582e+05</td>\n",
       "      <td>3.462714e+05</td>\n",
       "      <td>1.387300e+05</td>\n",
       "      <td>8.388915e+03</td>\n",
       "      <td>0.090579</td>\n",
       "      <td>0.212756</td>\n",
       "    </tr>\n",
       "    <tr>\n",
       "      <th>std</th>\n",
       "      <td>1.454301e+05</td>\n",
       "      <td>3.478962</td>\n",
       "      <td>7.948749e+08</td>\n",
       "      <td>4.040441e+07</td>\n",
       "      <td>161.543373</td>\n",
       "      <td>209.792592</td>\n",
       "      <td>2.047846e+04</td>\n",
       "      <td>3.420053e+04</td>\n",
       "      <td>1.503220e+05</td>\n",
       "      <td>7.617312e+05</td>\n",
       "      <td>...</td>\n",
       "      <td>1.155540e+06</td>\n",
       "      <td>5.433188e+05</td>\n",
       "      <td>1.168314e+06</td>\n",
       "      <td>1.121044e+06</td>\n",
       "      <td>1.069160e+06</td>\n",
       "      <td>1.728056e+06</td>\n",
       "      <td>4.495100e+05</td>\n",
       "      <td>4.747043e+04</td>\n",
       "      <td>4.368855</td>\n",
       "      <td>8.830641</td>\n",
       "    </tr>\n",
       "    <tr>\n",
       "      <th>min</th>\n",
       "      <td>0.000000e+00</td>\n",
       "      <td>0.000000</td>\n",
       "      <td>0.000000e+00</td>\n",
       "      <td>0.000000e+00</td>\n",
       "      <td>0.000000</td>\n",
       "      <td>0.000000</td>\n",
       "      <td>0.000000e+00</td>\n",
       "      <td>0.000000e+00</td>\n",
       "      <td>0.000000e+00</td>\n",
       "      <td>0.000000e+00</td>\n",
       "      <td>...</td>\n",
       "      <td>0.000000e+00</td>\n",
       "      <td>0.000000e+00</td>\n",
       "      <td>0.000000e+00</td>\n",
       "      <td>0.000000e+00</td>\n",
       "      <td>0.000000e+00</td>\n",
       "      <td>0.000000e+00</td>\n",
       "      <td>0.000000e+00</td>\n",
       "      <td>0.000000e+00</td>\n",
       "      <td>0.000000</td>\n",
       "      <td>0.000000</td>\n",
       "    </tr>\n",
       "    <tr>\n",
       "      <th>25%</th>\n",
       "      <td>8.340000e+02</td>\n",
       "      <td>0.000000</td>\n",
       "      <td>1.600000e+01</td>\n",
       "      <td>2.400000e+01</td>\n",
       "      <td>0.000000</td>\n",
       "      <td>0.000000</td>\n",
       "      <td>0.000000e+00</td>\n",
       "      <td>0.000000e+00</td>\n",
       "      <td>0.000000e+00</td>\n",
       "      <td>0.000000e+00</td>\n",
       "      <td>...</td>\n",
       "      <td>2.936000e+03</td>\n",
       "      <td>1.166000e+03</td>\n",
       "      <td>2.700000e+03</td>\n",
       "      <td>3.584000e+03</td>\n",
       "      <td>5.120000e+02</td>\n",
       "      <td>1.100000e+02</td>\n",
       "      <td>0.000000e+00</td>\n",
       "      <td>0.000000e+00</td>\n",
       "      <td>0.000000</td>\n",
       "      <td>0.000000</td>\n",
       "    </tr>\n",
       "    <tr>\n",
       "      <th>50%</th>\n",
       "      <td>3.077600e+04</td>\n",
       "      <td>0.000000</td>\n",
       "      <td>1.520000e+02</td>\n",
       "      <td>1.260000e+02</td>\n",
       "      <td>0.000000</td>\n",
       "      <td>0.000000</td>\n",
       "      <td>0.000000e+00</td>\n",
       "      <td>0.000000e+00</td>\n",
       "      <td>0.000000e+00</td>\n",
       "      <td>0.000000e+00</td>\n",
       "      <td>...</td>\n",
       "      <td>2.337960e+05</td>\n",
       "      <td>1.120860e+05</td>\n",
       "      <td>2.215180e+05</td>\n",
       "      <td>1.899880e+05</td>\n",
       "      <td>9.243200e+04</td>\n",
       "      <td>4.109800e+04</td>\n",
       "      <td>3.812000e+03</td>\n",
       "      <td>0.000000e+00</td>\n",
       "      <td>0.000000</td>\n",
       "      <td>0.000000</td>\n",
       "    </tr>\n",
       "    <tr>\n",
       "      <th>75%</th>\n",
       "      <td>4.866800e+04</td>\n",
       "      <td>0.000000</td>\n",
       "      <td>9.640000e+02</td>\n",
       "      <td>4.300000e+02</td>\n",
       "      <td>0.000000</td>\n",
       "      <td>0.000000</td>\n",
       "      <td>0.000000e+00</td>\n",
       "      <td>0.000000e+00</td>\n",
       "      <td>0.000000e+00</td>\n",
       "      <td>0.000000e+00</td>\n",
       "      <td>...</td>\n",
       "      <td>4.383960e+05</td>\n",
       "      <td>2.182320e+05</td>\n",
       "      <td>4.666140e+05</td>\n",
       "      <td>4.032220e+05</td>\n",
       "      <td>2.750940e+05</td>\n",
       "      <td>1.678140e+05</td>\n",
       "      <td>1.397240e+05</td>\n",
       "      <td>2.028000e+03</td>\n",
       "      <td>0.000000</td>\n",
       "      <td>0.000000</td>\n",
       "    </tr>\n",
       "    <tr>\n",
       "      <th>max</th>\n",
       "      <td>2.746564e+06</td>\n",
       "      <td>204.000000</td>\n",
       "      <td>2.130707e+09</td>\n",
       "      <td>8.584298e+09</td>\n",
       "      <td>21050.000000</td>\n",
       "      <td>20070.000000</td>\n",
       "      <td>3.376892e+06</td>\n",
       "      <td>4.109372e+06</td>\n",
       "      <td>1.055286e+07</td>\n",
       "      <td>6.340207e+07</td>\n",
       "      <td>...</td>\n",
       "      <td>7.793393e+07</td>\n",
       "      <td>3.775839e+07</td>\n",
       "      <td>9.715238e+07</td>\n",
       "      <td>5.743524e+07</td>\n",
       "      <td>3.160781e+07</td>\n",
       "      <td>1.195801e+08</td>\n",
       "      <td>1.926740e+07</td>\n",
       "      <td>3.810078e+06</td>\n",
       "      <td>482.000000</td>\n",
       "      <td>1146.000000</td>\n",
       "    </tr>\n",
       "  </tbody>\n",
       "</table>\n",
       "<p>8 rows × 170 columns</p>\n",
       "</div>"
      ],
      "text/plain": [
       "             aa_000        ab_000        ac_000        ad_000        ae_000  \\\n",
       "count  6.000000e+04  13671.000000  5.666500e+04  4.513900e+04  57500.000000   \n",
       "mean   5.933650e+04      0.713189  3.560143e+08  1.906206e+05      6.819130   \n",
       "std    1.454301e+05      3.478962  7.948749e+08  4.040441e+07    161.543373   \n",
       "min    0.000000e+00      0.000000  0.000000e+00  0.000000e+00      0.000000   \n",
       "25%    8.340000e+02      0.000000  1.600000e+01  2.400000e+01      0.000000   \n",
       "50%    3.077600e+04      0.000000  1.520000e+02  1.260000e+02      0.000000   \n",
       "75%    4.866800e+04      0.000000  9.640000e+02  4.300000e+02      0.000000   \n",
       "max    2.746564e+06    204.000000  2.130707e+09  8.584298e+09  21050.000000   \n",
       "\n",
       "             af_000        ag_000        ag_001        ag_002        ag_003  \\\n",
       "count  57500.000000  5.932900e+04  5.932900e+04  5.932900e+04  5.932900e+04   \n",
       "mean      11.006817  2.216364e+02  9.757223e+02  8.606015e+03  8.859128e+04   \n",
       "std      209.792592  2.047846e+04  3.420053e+04  1.503220e+05  7.617312e+05   \n",
       "min        0.000000  0.000000e+00  0.000000e+00  0.000000e+00  0.000000e+00   \n",
       "25%        0.000000  0.000000e+00  0.000000e+00  0.000000e+00  0.000000e+00   \n",
       "50%        0.000000  0.000000e+00  0.000000e+00  0.000000e+00  0.000000e+00   \n",
       "75%        0.000000  0.000000e+00  0.000000e+00  0.000000e+00  0.000000e+00   \n",
       "max    20070.000000  3.376892e+06  4.109372e+06  1.055286e+07  6.340207e+07   \n",
       "\n",
       "       ...        ee_002        ee_003        ee_004        ee_005  \\\n",
       "count  ...  5.932900e+04  5.932900e+04  5.932900e+04  5.932900e+04   \n",
       "mean   ...  4.454897e+05  2.111264e+05  4.457343e+05  3.939462e+05   \n",
       "std    ...  1.155540e+06  5.433188e+05  1.168314e+06  1.121044e+06   \n",
       "min    ...  0.000000e+00  0.000000e+00  0.000000e+00  0.000000e+00   \n",
       "25%    ...  2.936000e+03  1.166000e+03  2.700000e+03  3.584000e+03   \n",
       "50%    ...  2.337960e+05  1.120860e+05  2.215180e+05  1.899880e+05   \n",
       "75%    ...  4.383960e+05  2.182320e+05  4.666140e+05  4.032220e+05   \n",
       "max    ...  7.793393e+07  3.775839e+07  9.715238e+07  5.743524e+07   \n",
       "\n",
       "             ee_006        ee_007        ee_008        ee_009        ef_000  \\\n",
       "count  5.932900e+04  5.932900e+04  5.932900e+04  5.932900e+04  57276.000000   \n",
       "mean   3.330582e+05  3.462714e+05  1.387300e+05  8.388915e+03      0.090579   \n",
       "std    1.069160e+06  1.728056e+06  4.495100e+05  4.747043e+04      4.368855   \n",
       "min    0.000000e+00  0.000000e+00  0.000000e+00  0.000000e+00      0.000000   \n",
       "25%    5.120000e+02  1.100000e+02  0.000000e+00  0.000000e+00      0.000000   \n",
       "50%    9.243200e+04  4.109800e+04  3.812000e+03  0.000000e+00      0.000000   \n",
       "75%    2.750940e+05  1.678140e+05  1.397240e+05  2.028000e+03      0.000000   \n",
       "max    3.160781e+07  1.195801e+08  1.926740e+07  3.810078e+06    482.000000   \n",
       "\n",
       "             eg_000  \n",
       "count  57277.000000  \n",
       "mean       0.212756  \n",
       "std        8.830641  \n",
       "min        0.000000  \n",
       "25%        0.000000  \n",
       "50%        0.000000  \n",
       "75%        0.000000  \n",
       "max     1146.000000  \n",
       "\n",
       "[8 rows x 170 columns]"
      ]
     },
     "execution_count": 6,
     "metadata": {},
     "output_type": "execute_result"
    }
   ],
   "source": [
    "train.describe()"
   ]
  },
  {
   "cell_type": "code",
   "execution_count": 7,
   "id": "b897bf54",
   "metadata": {},
   "outputs": [
    {
     "data": {
      "text/html": [
       "<div>\n",
       "<style scoped>\n",
       "    .dataframe tbody tr th:only-of-type {\n",
       "        vertical-align: middle;\n",
       "    }\n",
       "\n",
       "    .dataframe tbody tr th {\n",
       "        vertical-align: top;\n",
       "    }\n",
       "\n",
       "    .dataframe thead th {\n",
       "        text-align: right;\n",
       "    }\n",
       "</style>\n",
       "<table border=\"1\" class=\"dataframe\">\n",
       "  <thead>\n",
       "    <tr style=\"text-align: right;\">\n",
       "      <th></th>\n",
       "      <th>class</th>\n",
       "      <th>aa_000</th>\n",
       "      <th>ab_000</th>\n",
       "      <th>ac_000</th>\n",
       "      <th>ad_000</th>\n",
       "      <th>ae_000</th>\n",
       "      <th>af_000</th>\n",
       "      <th>ag_000</th>\n",
       "      <th>ag_001</th>\n",
       "      <th>ag_002</th>\n",
       "      <th>...</th>\n",
       "      <th>ee_002</th>\n",
       "      <th>ee_003</th>\n",
       "      <th>ee_004</th>\n",
       "      <th>ee_005</th>\n",
       "      <th>ee_006</th>\n",
       "      <th>ee_007</th>\n",
       "      <th>ee_008</th>\n",
       "      <th>ee_009</th>\n",
       "      <th>ef_000</th>\n",
       "      <th>eg_000</th>\n",
       "    </tr>\n",
       "  </thead>\n",
       "  <tbody>\n",
       "    <tr>\n",
       "      <th>0</th>\n",
       "      <td>neg</td>\n",
       "      <td>76698</td>\n",
       "      <td>NaN</td>\n",
       "      <td>2.130706e+09</td>\n",
       "      <td>280.0</td>\n",
       "      <td>0.0</td>\n",
       "      <td>0.0</td>\n",
       "      <td>0.0</td>\n",
       "      <td>0.0</td>\n",
       "      <td>0.0</td>\n",
       "      <td>...</td>\n",
       "      <td>1240520.0</td>\n",
       "      <td>493384.0</td>\n",
       "      <td>721044.0</td>\n",
       "      <td>469792.0</td>\n",
       "      <td>339156.0</td>\n",
       "      <td>157956.0</td>\n",
       "      <td>73224.0</td>\n",
       "      <td>0.0</td>\n",
       "      <td>0.0</td>\n",
       "      <td>0.0</td>\n",
       "    </tr>\n",
       "    <tr>\n",
       "      <th>1</th>\n",
       "      <td>neg</td>\n",
       "      <td>33058</td>\n",
       "      <td>NaN</td>\n",
       "      <td>0.000000e+00</td>\n",
       "      <td>NaN</td>\n",
       "      <td>0.0</td>\n",
       "      <td>0.0</td>\n",
       "      <td>0.0</td>\n",
       "      <td>0.0</td>\n",
       "      <td>0.0</td>\n",
       "      <td>...</td>\n",
       "      <td>421400.0</td>\n",
       "      <td>178064.0</td>\n",
       "      <td>293306.0</td>\n",
       "      <td>245416.0</td>\n",
       "      <td>133654.0</td>\n",
       "      <td>81140.0</td>\n",
       "      <td>97576.0</td>\n",
       "      <td>1500.0</td>\n",
       "      <td>0.0</td>\n",
       "      <td>0.0</td>\n",
       "    </tr>\n",
       "    <tr>\n",
       "      <th>2</th>\n",
       "      <td>neg</td>\n",
       "      <td>41040</td>\n",
       "      <td>NaN</td>\n",
       "      <td>2.280000e+02</td>\n",
       "      <td>100.0</td>\n",
       "      <td>0.0</td>\n",
       "      <td>0.0</td>\n",
       "      <td>0.0</td>\n",
       "      <td>0.0</td>\n",
       "      <td>0.0</td>\n",
       "      <td>...</td>\n",
       "      <td>277378.0</td>\n",
       "      <td>159812.0</td>\n",
       "      <td>423992.0</td>\n",
       "      <td>409564.0</td>\n",
       "      <td>320746.0</td>\n",
       "      <td>158022.0</td>\n",
       "      <td>95128.0</td>\n",
       "      <td>514.0</td>\n",
       "      <td>0.0</td>\n",
       "      <td>0.0</td>\n",
       "    </tr>\n",
       "    <tr>\n",
       "      <th>3</th>\n",
       "      <td>neg</td>\n",
       "      <td>12</td>\n",
       "      <td>0.0</td>\n",
       "      <td>7.000000e+01</td>\n",
       "      <td>66.0</td>\n",
       "      <td>0.0</td>\n",
       "      <td>10.0</td>\n",
       "      <td>0.0</td>\n",
       "      <td>0.0</td>\n",
       "      <td>0.0</td>\n",
       "      <td>...</td>\n",
       "      <td>240.0</td>\n",
       "      <td>46.0</td>\n",
       "      <td>58.0</td>\n",
       "      <td>44.0</td>\n",
       "      <td>10.0</td>\n",
       "      <td>0.0</td>\n",
       "      <td>0.0</td>\n",
       "      <td>0.0</td>\n",
       "      <td>4.0</td>\n",
       "      <td>32.0</td>\n",
       "    </tr>\n",
       "    <tr>\n",
       "      <th>4</th>\n",
       "      <td>neg</td>\n",
       "      <td>60874</td>\n",
       "      <td>NaN</td>\n",
       "      <td>1.368000e+03</td>\n",
       "      <td>458.0</td>\n",
       "      <td>0.0</td>\n",
       "      <td>0.0</td>\n",
       "      <td>0.0</td>\n",
       "      <td>0.0</td>\n",
       "      <td>0.0</td>\n",
       "      <td>...</td>\n",
       "      <td>622012.0</td>\n",
       "      <td>229790.0</td>\n",
       "      <td>405298.0</td>\n",
       "      <td>347188.0</td>\n",
       "      <td>286954.0</td>\n",
       "      <td>311560.0</td>\n",
       "      <td>433954.0</td>\n",
       "      <td>1218.0</td>\n",
       "      <td>0.0</td>\n",
       "      <td>0.0</td>\n",
       "    </tr>\n",
       "  </tbody>\n",
       "</table>\n",
       "<p>5 rows × 171 columns</p>\n",
       "</div>"
      ],
      "text/plain": [
       "  class  aa_000  ab_000        ac_000  ad_000  ae_000  af_000  ag_000  ag_001  \\\n",
       "0   neg   76698     NaN  2.130706e+09   280.0     0.0     0.0     0.0     0.0   \n",
       "1   neg   33058     NaN  0.000000e+00     NaN     0.0     0.0     0.0     0.0   \n",
       "2   neg   41040     NaN  2.280000e+02   100.0     0.0     0.0     0.0     0.0   \n",
       "3   neg      12     0.0  7.000000e+01    66.0     0.0    10.0     0.0     0.0   \n",
       "4   neg   60874     NaN  1.368000e+03   458.0     0.0     0.0     0.0     0.0   \n",
       "\n",
       "   ag_002  ...     ee_002    ee_003    ee_004    ee_005    ee_006    ee_007  \\\n",
       "0     0.0  ...  1240520.0  493384.0  721044.0  469792.0  339156.0  157956.0   \n",
       "1     0.0  ...   421400.0  178064.0  293306.0  245416.0  133654.0   81140.0   \n",
       "2     0.0  ...   277378.0  159812.0  423992.0  409564.0  320746.0  158022.0   \n",
       "3     0.0  ...      240.0      46.0      58.0      44.0      10.0       0.0   \n",
       "4     0.0  ...   622012.0  229790.0  405298.0  347188.0  286954.0  311560.0   \n",
       "\n",
       "     ee_008  ee_009  ef_000  eg_000  \n",
       "0   73224.0     0.0     0.0     0.0  \n",
       "1   97576.0  1500.0     0.0     0.0  \n",
       "2   95128.0   514.0     0.0     0.0  \n",
       "3       0.0     0.0     4.0    32.0  \n",
       "4  433954.0  1218.0     0.0     0.0  \n",
       "\n",
       "[5 rows x 171 columns]"
      ]
     },
     "execution_count": 7,
     "metadata": {},
     "output_type": "execute_result"
    }
   ],
   "source": [
    "train.head()"
   ]
  },
  {
   "cell_type": "markdown",
   "id": "a99d2ad6",
   "metadata": {},
   "source": [
    "The dataset has 171 anonymized attributes, where:\n",
    "\n",
    "- Most columns are continuous numerical sensor readings or counters (e.g., aa_000, bt_000, ci_000, etc.).\n",
    "\n",
    "- A subset of columns are histogram variables, typically representing binned distributions of sensor activity under varying operating conditions.\n",
    "\n",
    "In total, there are 7 such histogram families in the APS dataset, corresponding to different subsystems (e.g., compressor, reservoir, valve, etc.)."
   ]
  },
  {
   "cell_type": "markdown",
   "id": "edd37be0",
   "metadata": {},
   "source": [
    "Treating each bin (ee_000–ee_009) as a separate feature captures the shape of the sensor distribution (e.g., normal vs skewed operation). However, these bins are correlated, since they sum to 1 (or a constant total frequency count).\n",
    "\n",
    "- Keep all bins if using tree-based models (RF, LGBM) — they handle redundancy well.\n",
    "\n",
    "- Apply feature engineering for compactness:\n",
    "\n",
    "    - Compute mean bin index weighted by frequency (center of mass)\n",
    "\n",
    "    - Compute standard deviation or entropy of the histogram\n",
    "\n",
    "    - Compute ratios between early vs late bins (to detect drifts or abnormal load)"
   ]
  },
  {
   "cell_type": "code",
   "execution_count": 8,
   "id": "a78bd601",
   "metadata": {},
   "outputs": [
    {
     "name": "stdout",
     "output_type": "stream",
     "text": [
      "STATUS: Dimension of \"train_data\" = (60000, 171)\n",
      "STATUS: The target class has no null values.\n",
      "STATUS: 169 columns with null values, over a total of 171\n",
      "STATUS: There are/is 0 duplicated rows\n"
     ]
    },
    {
     "data": {
      "text/html": [
       "<div>\n",
       "<style scoped>\n",
       "    .dataframe tbody tr th:only-of-type {\n",
       "        vertical-align: middle;\n",
       "    }\n",
       "\n",
       "    .dataframe tbody tr th {\n",
       "        vertical-align: top;\n",
       "    }\n",
       "\n",
       "    .dataframe thead th {\n",
       "        text-align: right;\n",
       "    }\n",
       "</style>\n",
       "<table border=\"1\" class=\"dataframe\">\n",
       "  <thead>\n",
       "    <tr style=\"text-align: right;\">\n",
       "      <th></th>\n",
       "      <th>class</th>\n",
       "      <th>aa_000</th>\n",
       "      <th>ab_000</th>\n",
       "      <th>ac_000</th>\n",
       "      <th>ad_000</th>\n",
       "      <th>ae_000</th>\n",
       "      <th>af_000</th>\n",
       "      <th>ag_000</th>\n",
       "      <th>ag_001</th>\n",
       "      <th>ag_002</th>\n",
       "      <th>...</th>\n",
       "      <th>ee_002</th>\n",
       "      <th>ee_003</th>\n",
       "      <th>ee_004</th>\n",
       "      <th>ee_005</th>\n",
       "      <th>ee_006</th>\n",
       "      <th>ee_007</th>\n",
       "      <th>ee_008</th>\n",
       "      <th>ee_009</th>\n",
       "      <th>ef_000</th>\n",
       "      <th>eg_000</th>\n",
       "    </tr>\n",
       "  </thead>\n",
       "  <tbody>\n",
       "    <tr>\n",
       "      <th>0</th>\n",
       "      <td>neg</td>\n",
       "      <td>76698</td>\n",
       "      <td>NaN</td>\n",
       "      <td>2.130706e+09</td>\n",
       "      <td>280.0</td>\n",
       "      <td>0.0</td>\n",
       "      <td>0.0</td>\n",
       "      <td>0.0</td>\n",
       "      <td>0.0</td>\n",
       "      <td>0.0</td>\n",
       "      <td>...</td>\n",
       "      <td>1240520.0</td>\n",
       "      <td>493384.0</td>\n",
       "      <td>721044.0</td>\n",
       "      <td>469792.0</td>\n",
       "      <td>339156.0</td>\n",
       "      <td>157956.0</td>\n",
       "      <td>73224.0</td>\n",
       "      <td>0.0</td>\n",
       "      <td>0.0</td>\n",
       "      <td>0.0</td>\n",
       "    </tr>\n",
       "    <tr>\n",
       "      <th>1</th>\n",
       "      <td>neg</td>\n",
       "      <td>33058</td>\n",
       "      <td>NaN</td>\n",
       "      <td>0.000000e+00</td>\n",
       "      <td>NaN</td>\n",
       "      <td>0.0</td>\n",
       "      <td>0.0</td>\n",
       "      <td>0.0</td>\n",
       "      <td>0.0</td>\n",
       "      <td>0.0</td>\n",
       "      <td>...</td>\n",
       "      <td>421400.0</td>\n",
       "      <td>178064.0</td>\n",
       "      <td>293306.0</td>\n",
       "      <td>245416.0</td>\n",
       "      <td>133654.0</td>\n",
       "      <td>81140.0</td>\n",
       "      <td>97576.0</td>\n",
       "      <td>1500.0</td>\n",
       "      <td>0.0</td>\n",
       "      <td>0.0</td>\n",
       "    </tr>\n",
       "    <tr>\n",
       "      <th>2</th>\n",
       "      <td>neg</td>\n",
       "      <td>41040</td>\n",
       "      <td>NaN</td>\n",
       "      <td>2.280000e+02</td>\n",
       "      <td>100.0</td>\n",
       "      <td>0.0</td>\n",
       "      <td>0.0</td>\n",
       "      <td>0.0</td>\n",
       "      <td>0.0</td>\n",
       "      <td>0.0</td>\n",
       "      <td>...</td>\n",
       "      <td>277378.0</td>\n",
       "      <td>159812.0</td>\n",
       "      <td>423992.0</td>\n",
       "      <td>409564.0</td>\n",
       "      <td>320746.0</td>\n",
       "      <td>158022.0</td>\n",
       "      <td>95128.0</td>\n",
       "      <td>514.0</td>\n",
       "      <td>0.0</td>\n",
       "      <td>0.0</td>\n",
       "    </tr>\n",
       "    <tr>\n",
       "      <th>3</th>\n",
       "      <td>neg</td>\n",
       "      <td>12</td>\n",
       "      <td>0.0</td>\n",
       "      <td>7.000000e+01</td>\n",
       "      <td>66.0</td>\n",
       "      <td>0.0</td>\n",
       "      <td>10.0</td>\n",
       "      <td>0.0</td>\n",
       "      <td>0.0</td>\n",
       "      <td>0.0</td>\n",
       "      <td>...</td>\n",
       "      <td>240.0</td>\n",
       "      <td>46.0</td>\n",
       "      <td>58.0</td>\n",
       "      <td>44.0</td>\n",
       "      <td>10.0</td>\n",
       "      <td>0.0</td>\n",
       "      <td>0.0</td>\n",
       "      <td>0.0</td>\n",
       "      <td>4.0</td>\n",
       "      <td>32.0</td>\n",
       "    </tr>\n",
       "    <tr>\n",
       "      <th>4</th>\n",
       "      <td>neg</td>\n",
       "      <td>60874</td>\n",
       "      <td>NaN</td>\n",
       "      <td>1.368000e+03</td>\n",
       "      <td>458.0</td>\n",
       "      <td>0.0</td>\n",
       "      <td>0.0</td>\n",
       "      <td>0.0</td>\n",
       "      <td>0.0</td>\n",
       "      <td>0.0</td>\n",
       "      <td>...</td>\n",
       "      <td>622012.0</td>\n",
       "      <td>229790.0</td>\n",
       "      <td>405298.0</td>\n",
       "      <td>347188.0</td>\n",
       "      <td>286954.0</td>\n",
       "      <td>311560.0</td>\n",
       "      <td>433954.0</td>\n",
       "      <td>1218.0</td>\n",
       "      <td>0.0</td>\n",
       "      <td>0.0</td>\n",
       "    </tr>\n",
       "  </tbody>\n",
       "</table>\n",
       "<p>5 rows × 171 columns</p>\n",
       "</div>"
      ],
      "text/plain": [
       "  class  aa_000  ab_000        ac_000  ad_000  ae_000  af_000  ag_000  ag_001  \\\n",
       "0   neg   76698     NaN  2.130706e+09   280.0     0.0     0.0     0.0     0.0   \n",
       "1   neg   33058     NaN  0.000000e+00     NaN     0.0     0.0     0.0     0.0   \n",
       "2   neg   41040     NaN  2.280000e+02   100.0     0.0     0.0     0.0     0.0   \n",
       "3   neg      12     0.0  7.000000e+01    66.0     0.0    10.0     0.0     0.0   \n",
       "4   neg   60874     NaN  1.368000e+03   458.0     0.0     0.0     0.0     0.0   \n",
       "\n",
       "   ag_002  ...     ee_002    ee_003    ee_004    ee_005    ee_006    ee_007  \\\n",
       "0     0.0  ...  1240520.0  493384.0  721044.0  469792.0  339156.0  157956.0   \n",
       "1     0.0  ...   421400.0  178064.0  293306.0  245416.0  133654.0   81140.0   \n",
       "2     0.0  ...   277378.0  159812.0  423992.0  409564.0  320746.0  158022.0   \n",
       "3     0.0  ...      240.0      46.0      58.0      44.0      10.0       0.0   \n",
       "4     0.0  ...   622012.0  229790.0  405298.0  347188.0  286954.0  311560.0   \n",
       "\n",
       "     ee_008  ee_009  ef_000  eg_000  \n",
       "0   73224.0     0.0     0.0     0.0  \n",
       "1   97576.0  1500.0     0.0     0.0  \n",
       "2   95128.0   514.0     0.0     0.0  \n",
       "3       0.0     0.0     4.0    32.0  \n",
       "4  433954.0  1218.0     0.0     0.0  \n",
       "\n",
       "[5 rows x 171 columns]"
      ]
     },
     "execution_count": 8,
     "metadata": {},
     "output_type": "execute_result"
    }
   ],
   "source": [
    "def shape(df,df_name):\n",
    "    print(f'STATUS: Dimension of \"{df_name}\" = {df.shape}')\n",
    "\n",
    "def inspect_duplications(df):\n",
    "    num_duplicated = len(df[df.duplicated()])\n",
    "    print(f'STATUS: There are/is {num_duplicated} duplicated rows')\n",
    "def inspect_null_columns(df, df_name, target=None):\n",
    "    if df.isnull().values.any() ==False:\n",
    "        print(f'STATUS: There is NO ANY null value in dataframe \"{df_name}\"')\n",
    "    else:\n",
    "        if target!=None:\n",
    "            if (df[target].isna().any()):\n",
    "                print(\"STATUS: The target class has null values.\")\n",
    "            else:\n",
    "                print(\"STATUS: The target class has no null values.\")\n",
    "        columns = df.columns[df.isna().any()].tolist()\n",
    "        temp = {}\n",
    "        for column in columns:\n",
    "            temp[column] = (len(df) - df[column].count())\n",
    "        print(f\"STATUS: {len(columns)} columns with null values, over a total of {len(df.columns)}\")\n",
    "        return pd.DataFrame(temp, index=[0]).T #temp\n",
    "\n",
    "# replace na to np.na in case it hasn't been replaced earlier while loading the data\n",
    "train.replace(\"na\", np.nan, inplace=True)\n",
    "shape(train, 'train_data')\n",
    "nulls = inspect_null_columns(train,'train','class')\n",
    "inspect_duplications(train)\n",
    "train.head()"
   ]
  },
  {
   "cell_type": "code",
   "execution_count": 9,
   "id": "7784267d",
   "metadata": {},
   "outputs": [],
   "source": [
    "# Normalize target to {0,1}\n",
    "train[\"class\"] = train[\"class\"].replace({\"neg\":0, \"pos\":1})\n",
    "test[\"class\"]  = test[\"class\"].replace({\"neg\":0, \"pos\":1})"
   ]
  },
  {
   "cell_type": "code",
   "execution_count": 10,
   "id": "f6b9eadc",
   "metadata": {},
   "outputs": [],
   "source": [
    "# Remove single valued features\n",
    "def drop_single_valued(df):\n",
    "    non_const = df.loc[:, df.nunique(dropna=False) > 1]\n",
    "    removed = [c for c in df.columns if c not in non_const.columns]\n",
    "    return non_const, removed"
   ]
  },
  {
   "cell_type": "code",
   "execution_count": 11,
   "id": "cdcb622d",
   "metadata": {},
   "outputs": [
    {
     "name": "stdout",
     "output_type": "stream",
     "text": [
      "Removed single-valued features: []\n"
     ]
    }
   ],
   "source": [
    "train, removed_single_value = drop_single_valued(train)\n",
    "print(f\"Removed single-valued features: {removed_single_value}\")"
   ]
  },
  {
   "cell_type": "code",
   "execution_count": 12,
   "id": "a3c2f72c",
   "metadata": {},
   "outputs": [
    {
     "data": {
      "text/html": [
       "<div>\n",
       "<style scoped>\n",
       "    .dataframe tbody tr th:only-of-type {\n",
       "        vertical-align: middle;\n",
       "    }\n",
       "\n",
       "    .dataframe tbody tr th {\n",
       "        vertical-align: top;\n",
       "    }\n",
       "\n",
       "    .dataframe thead th {\n",
       "        text-align: right;\n",
       "    }\n",
       "</style>\n",
       "<table border=\"1\" class=\"dataframe\">\n",
       "  <thead>\n",
       "    <tr style=\"text-align: right;\">\n",
       "      <th></th>\n",
       "      <th>null values per column</th>\n",
       "      <th>percentage of nulls</th>\n",
       "    </tr>\n",
       "  </thead>\n",
       "  <tbody>\n",
       "    <tr>\n",
       "      <th>br_000</th>\n",
       "      <td>49264</td>\n",
       "      <td>0.821067</td>\n",
       "    </tr>\n",
       "    <tr>\n",
       "      <th>bq_000</th>\n",
       "      <td>48722</td>\n",
       "      <td>0.812033</td>\n",
       "    </tr>\n",
       "    <tr>\n",
       "      <th>bp_000</th>\n",
       "      <td>47740</td>\n",
       "      <td>0.795667</td>\n",
       "    </tr>\n",
       "    <tr>\n",
       "      <th>bo_000</th>\n",
       "      <td>46333</td>\n",
       "      <td>0.772217</td>\n",
       "    </tr>\n",
       "    <tr>\n",
       "      <th>ab_000</th>\n",
       "      <td>46329</td>\n",
       "      <td>0.772150</td>\n",
       "    </tr>\n",
       "    <tr>\n",
       "      <th>...</th>\n",
       "      <td>...</td>\n",
       "      <td>...</td>\n",
       "    </tr>\n",
       "    <tr>\n",
       "      <th>by_000</th>\n",
       "      <td>473</td>\n",
       "      <td>0.007883</td>\n",
       "    </tr>\n",
       "    <tr>\n",
       "      <th>ci_000</th>\n",
       "      <td>338</td>\n",
       "      <td>0.005633</td>\n",
       "    </tr>\n",
       "    <tr>\n",
       "      <th>cj_000</th>\n",
       "      <td>338</td>\n",
       "      <td>0.005633</td>\n",
       "    </tr>\n",
       "    <tr>\n",
       "      <th>ck_000</th>\n",
       "      <td>338</td>\n",
       "      <td>0.005633</td>\n",
       "    </tr>\n",
       "    <tr>\n",
       "      <th>bt_000</th>\n",
       "      <td>167</td>\n",
       "      <td>0.002783</td>\n",
       "    </tr>\n",
       "  </tbody>\n",
       "</table>\n",
       "<p>169 rows × 2 columns</p>\n",
       "</div>"
      ],
      "text/plain": [
       "        null values per column  percentage of nulls\n",
       "br_000                   49264             0.821067\n",
       "bq_000                   48722             0.812033\n",
       "bp_000                   47740             0.795667\n",
       "bo_000                   46333             0.772217\n",
       "ab_000                   46329             0.772150\n",
       "...                        ...                  ...\n",
       "by_000                     473             0.007883\n",
       "ci_000                     338             0.005633\n",
       "cj_000                     338             0.005633\n",
       "ck_000                     338             0.005633\n",
       "bt_000                     167             0.002783\n",
       "\n",
       "[169 rows x 2 columns]"
      ]
     },
     "metadata": {},
     "output_type": "display_data"
    }
   ],
   "source": [
    "# summarize missing ratio visually (heatmap or null % histogram).\n",
    "nulls_df = nulls.rename(columns = {0:'null values per column'}).sort_values(by = 'null values per column', ascending=False)\n",
    "nulls_df['percentage of nulls'] = (nulls_df['null values per column'])/len(train)\n",
    "display(nulls_df)"
   ]
  },
  {
   "cell_type": "code",
   "execution_count": 13,
   "id": "16ab93b4",
   "metadata": {},
   "outputs": [
    {
     "data": {
      "image/png": "[encoded data removed]",
      "text/plain": [
       "<Figure size 500x500 with 1 Axes>"
      ]
     },
     "metadata": {},
     "output_type": "display_data"
    }
   ],
   "source": [
    "def vis_dist(df, col, lim=False, max_range=None):\n",
    "    variable = df[col].values\n",
    "    ax = sns.displot(variable)\n",
    "    plt.title(f'Distribution columns with Null Values')\n",
    "    plt.xlabel(f'{col}')\n",
    "    if lim:\n",
    "        plt.xlim(0, max_range)\n",
    "    return plt.show()\n",
    "vis_dist(nulls_df, 'null values per column')"
   ]
  },
  {
   "cell_type": "code",
   "execution_count": 14,
   "id": "debe9354",
   "metadata": {},
   "outputs": [],
   "source": [
    "def missing_rates(df, exclude_cols=None):\n",
    "    exclude_cols = set(exclude_cols or [])\n",
    "    rates = (df.isna().sum() / len(df)).rename(\"missing_rate\").to_frame()\n",
    "    return rates.loc[[c for c in df.columns if c not in exclude_cols]]"
   ]
  },
  {
   "cell_type": "code",
   "execution_count": 15,
   "id": "a103a518",
   "metadata": {},
   "outputs": [
    {
     "name": "stdout",
     "output_type": "stream",
     "text": [
      ">70% missing (drop): 7\n",
      "<4% missing (drop rows, train only): 99\n",
      "4–15% missing (median impute): 42\n",
      "15–70% missing (MICE): 21\n"
     ]
    }
   ],
   "source": [
    "rates = missing_rates(train, exclude_cols=[\"class\"])\n",
    "# Buckets\n",
    "high_na_feats   = rates.index[rates[\"missing_rate\"] > 0.70].tolist()\n",
    "lt4_feats       = rates.index[(rates[\"missing_rate\"] > 0.0) & (rates[\"missing_rate\"] < 0.04)].tolist()\n",
    "med_4_15_feats  = rates.index[(rates[\"missing_rate\"] >= 0.04) & (rates[\"missing_rate\"] <= 0.15)].tolist()\n",
    "mice_15_70_feats= rates.index[(rates[\"missing_rate\"] > 0.15) & (rates[\"missing_rate\"] <= 0.70)].tolist()\n",
    "\n",
    "print(f\">70% missing (drop): {len(high_na_feats)}\")\n",
    "print(f\"<4% missing (drop rows, train only): {len(lt4_feats)}\")\n",
    "print(f\"4–15% missing (median impute): {len(med_4_15_feats)}\")\n",
    "print(f\"15–70% missing (MICE): {len(mice_15_70_feats)}\")"
   ]
  },
  {
   "cell_type": "code",
   "execution_count": 16,
   "id": "0553582e",
   "metadata": {},
   "outputs": [],
   "source": [
    "# We’ll keep a copy of the “removed_features” for test preprocessing\n",
    "removed_features = high_na_feats.copy()"
   ]
  },
  {
   "cell_type": "code",
   "execution_count": 17,
   "id": "95d71adc",
   "metadata": {},
   "outputs": [
    {
     "data": {
      "text/plain": [
       "99"
      ]
     },
     "execution_count": 17,
     "metadata": {},
     "output_type": "execute_result"
    }
   ],
   "source": [
    "len(lt4_feats)"
   ]
  },
  {
   "cell_type": "markdown",
   "id": "e708c0f8",
   "metadata": {},
   "source": [
    "# I.III Preprocessing"
   ]
  },
  {
   "cell_type": "code",
   "execution_count": 18,
   "id": "21df5603",
   "metadata": {},
   "outputs": [
    {
     "name": "stdout",
     "output_type": "stream",
     "text": [
      "Dropped 1873 rows due to <4% features\n"
     ]
    }
   ],
   "source": [
    "# TRAIN preprocessing (drop feats, then row-drop for <4%, median-impute for 4–15%, MICE for 15–70%)\n",
    "train_work = train.drop(columns=removed_features)\n",
    "\n",
    "# a) drop rows with NA in lt4_feats (train only)\n",
    "if lt4_feats:\n",
    "    before = len(train_work)\n",
    "    train_work = train_work.dropna(subset=[c for c in lt4_feats if c in train_work.columns])\n",
    "    print(f\"Dropped {before - len(train_work)} rows due to <4% features\")\n",
    "\n",
    "# b) median imputer for 4–15%\n",
    "MEDIAN_imputer = None\n",
    "if med_4_15_feats:\n",
    "    MEDIAN_imputer = SimpleImputer(strategy=\"median\")\n",
    "    train_work[med_4_15_feats] = MEDIAN_imputer.fit_transform(train_work[med_4_15_feats])\n",
    "\n",
    "# c) MICE (IterativeImputer with Ridge) for 15–70%\n",
    "MICE_imputer = None\n",
    "if mice_15_70_feats:\n",
    "    MICE_imputer = IterativeImputer(\n",
    "        estimator=Ridge(alpha=1.0, random_state=RANDOM_STATE),\n",
    "        max_iter=10,\n",
    "        random_state=RANDOM_STATE,\n",
    "        sample_posterior=False\n",
    "    )\n",
    "    train_work[mice_15_70_feats] = MICE_imputer.fit_transform(train_work[mice_15_70_feats])\n"
   ]
  },
  {
   "cell_type": "code",
   "execution_count": 19,
   "id": "e968b4ea",
   "metadata": {},
   "outputs": [],
   "source": [
    "# Split X/y after preprocessing\n",
    "X_all = train_work.drop(columns=[\"class\"])\n",
    "y_all = train_work[\"class\"].values"
   ]
  },
  {
   "cell_type": "code",
   "execution_count": 20,
   "id": "37a8452d",
   "metadata": {},
   "outputs": [],
   "source": [
    "# TEST preprocessing function (\n",
    "def preprocess_test_data(x, na_features, median_features, imputer_median, imputer_mice):\n",
    "    x = x.copy()\n",
    "    x[\"class\"] = x[\"class\"].replace([\"neg\",\"pos\"], [0,1])\n",
    "    y = x[\"class\"].values\n",
    "    x = x.drop(columns=[\"class\"])\n",
    "\n",
    "    # Drop features with >70% missing (same set from train)\n",
    "    x = x.drop(columns=[f for f in na_features if f in x.columns])\n",
    "\n",
    "    # Apply median imputer on the defined subset\n",
    "    if median_features:\n",
    "        present = [c for c in median_features if c in x.columns]\n",
    "        if present:\n",
    "            x[present] = imputer_median.transform(x[present])\n",
    "\n",
    "    # Apply MICE imputer on the defined subset\n",
    "    if imputer_mice is not None:\n",
    "        # Only transform columns present in training order\n",
    "        cols = x.columns\n",
    "        # We fitted imputer on a subset (mice_15_70_feats). We must apply only to those present\n",
    "        to_mice = [c for c in mice_15_70_feats if c in cols]\n",
    "        if to_mice:\n",
    "            x[to_mice] = imputer_mice.transform(x[to_mice])\n",
    "\n",
    "    return x, y"
   ]
  },
  {
   "cell_type": "code",
   "execution_count": 21,
   "id": "d7daa0d7",
   "metadata": {},
   "outputs": [
    {
     "name": "stdout",
     "output_type": "stream",
     "text": [
      "Shape of Test data: (16000, 163)\n"
     ]
    }
   ],
   "source": [
    "# Prepare test (no row dropping!)\n",
    "x_test_pp, y_test = preprocess_test_data(\n",
    "    test,\n",
    "    removed_features,\n",
    "    med_4_15_feats,\n",
    "    MEDIAN_imputer,\n",
    "    MICE_imputer\n",
    ")\n",
    "print(\"Shape of Test data:\", x_test_pp.shape)\n",
    "\n",
    "# Align test columns to train columns (in case of column order/availability)\n",
    "x_test_pp = x_test_pp.reindex(columns=X_all.columns, fill_value=0)"
   ]
  },
  {
   "cell_type": "markdown",
   "id": "48d44bfb",
   "metadata": {},
   "source": [
    "# I.IV Histogram Families"
   ]
  },
  {
   "cell_type": "markdown",
   "id": "7aa2f324",
   "metadata": {},
   "source": [
    "We end up removing 7 columns"
   ]
  },
  {
   "cell_type": "code",
   "execution_count": 22,
   "id": "ee8ba548",
   "metadata": {},
   "outputs": [
    {
     "name": "stdout",
     "output_type": "stream",
     "text": [
      "{'ag': (10, ['ag_000', 'ag_001', 'ag_002'], '...'), 'ay': (10, ['ay_000', 'ay_001', 'ay_002'], '...'), 'az': (10, ['az_000', 'az_001', 'az_002'], '...'), 'ba': (10, ['ba_000', 'ba_001', 'ba_002'], '...'), 'cn': (10, ['cn_000', 'cn_001', 'cn_002'], '...'), 'cs': (10, ['cs_000', 'cs_001', 'cs_002'], '...'), 'ee': (10, ['ee_000', 'ee_001', 'ee_002'], '...')}\n"
     ]
    }
   ],
   "source": [
    "def histogram_families(columns):\n",
    "    fam = {}\n",
    "    for c in columns:\n",
    "        if \"_\" in c and c[-3:].isdigit() and len(c.split(\"_\")[-1]) == 3:\n",
    "            prefix = c.split(\"_\")[0]\n",
    "            fam.setdefault(prefix, []).append(c)\n",
    "    # keep only families that look like 10 bins (xxx_000..xxx_009)\n",
    "    return {k: sorted(v) for k, v in fam.items() if len(v) >= 10}\n",
    "\n",
    "hist_fams = histogram_families(X_all.columns)\n",
    "# Optionally trim to the canonical 7 (if you’ve pre-verified): ag, ay, az, ba, cn, cs, ee\n",
    "keep_keys = {\"ag\",\"ay\",\"az\",\"ba\",\"cn\",\"cs\",\"ee\"}\n",
    "hist_fams = {k: v for k, v in hist_fams.items() if k in keep_keys}\n",
    "print({k: (len(v), v[:3], \"...\") for k,v in hist_fams.items()})\n"
   ]
  },
  {
   "cell_type": "markdown",
   "id": "b3b48727",
   "metadata": {},
   "source": [
    "# I.V Feature selection hooks (RFE on hist-only & on non-hist)"
   ]
  },
  {
   "cell_type": "code",
   "execution_count": 23,
   "id": "80bd9683",
   "metadata": {},
   "outputs": [],
   "source": [
    "# Feature selection hooks (RFE on hist-only & on non-hist)\n",
    "# Define hist-only and numeric-only splits for RFE inspection\n",
    "hist_cols = sorted({c for cols in hist_fams.values() for c in cols})\n",
    "non_hist_cols = [c for c in X_all.columns if c not in hist_cols]"
   ]
  },
  {
   "cell_type": "code",
   "execution_count": null,
   "id": "26ce1b08",
   "metadata": {},
   "outputs": [
    {
     "name": "stdout",
     "output_type": "stream",
     "text": [
      "Top15 histogram features: ['ag_001', 'ag_002', 'ag_003', 'ag_006', 'ay_005', 'ay_006', 'ay_008', 'az_000', 'ba_000', 'cn_000', 'cn_004', 'cs_002', 'cs_004', 'ee_000', 'ee_005']\n",
      "Top15 numerical features: ['aa_000', 'al_000', 'am_0', 'ap_000', 'aq_000', 'bb_000', 'bj_000', 'bt_000', 'bu_000', 'bv_000', 'by_000', 'ci_000', 'ck_000', 'cq_000', 'dn_000']\n"
     ]
    }
   ],
   "source": [
    "# RFE to pick top 15 hist features (on TRAIN only)\n",
    "def rfe_top_features(X, y, cols, n_features=15):\n",
    "    if len(cols) <= n_features:\n",
    "        return cols\n",
    "    rf = RandomForestClassifier(n_estimators=200, random_state=RANDOM_STATE, n_jobs=-1)\n",
    "    rfe = RFE(estimator=rf, n_features_to_select=n_features, step=0.1)\n",
    "    rfe.fit(X[cols], y)\n",
    "    return list(pd.Index(cols)[rfe.support_])\n",
    "\n",
    "top15_hist = rfe_top_features(X_all, y_all, hist_cols, n_features=15) if hist_cols else []\n",
    "top15_num  = rfe_top_features(X_all, y_all, non_hist_cols, n_features=15) if non_hist_cols else []\n",
    "print(\"Top15 histogram features:\", top15_hist)\n",
    "print(\"Top15 numerical features:\", top15_num)\n",
    "\n",
    "# support/correlation matrix for the selected features"
   ]
  },
  {
   "cell_type": "markdown",
   "id": "7996793c",
   "metadata": {},
   "source": [
    "# I.VI Plot PDFs/CDFs/Boxplots for top15 — stubs:\n"
   ]
  },
  {
   "cell_type": "code",
   "execution_count": 25,
   "id": "e12b634c",
   "metadata": {},
   "outputs": [
    {
     "data": {
      "image/png": "[encoded data removed]",
      "text/plain": [
       "<Figure size 640x480 with 1 Axes>"
      ]
     },
     "metadata": {},
     "output_type": "display_data"
    },
    {
     "data": {
      "image/png": "[encoded data removed]",
      "text/plain": [
       "<Figure size 640x480 with 1 Axes>"
      ]
     },
     "metadata": {},
     "output_type": "display_data"
    },
    {
     "data": {
      "image/png": "[encoded data removed]",
      "text/plain": [
       "<Figure size 640x480 with 1 Axes>"
      ]
     },
     "metadata": {},
     "output_type": "display_data"
    },
    {
     "data": {
      "image/png": "[encoded data removed]",
      "text/plain": [
       "<Figure size 640x480 with 1 Axes>"
      ]
     },
     "metadata": {},
     "output_type": "display_data"
    },
    {
     "data": {
      "image/png": "[encoded data removed]",
      "text/plain": [
       "<Figure size 640x480 with 1 Axes>"
      ]
     },
     "metadata": {},
     "output_type": "display_data"
    },
    {
     "data": {
      "image/png": "[encoded data removed]",
      "text/plain": [
       "<Figure size 640x480 with 1 Axes>"
      ]
     },
     "metadata": {},
     "output_type": "display_data"
    },
    {
     "data": {
      "image/png": "[encoded data removed]",
      "text/plain": [
       "<Figure size 640x480 with 1 Axes>"
      ]
     },
     "metadata": {},
     "output_type": "display_data"
    },
    {
     "data": {
      "image/png": "[encoded data removed]",
      "text/plain": [
       "<Figure size 640x480 with 1 Axes>"
      ]
     },
     "metadata": {},
     "output_type": "display_data"
    },
    {
     "data": {
      "image/png": "[encoded data removed]",
      "text/plain": [
       "<Figure size 640x480 with 1 Axes>"
      ]
     },
     "metadata": {},
     "output_type": "display_data"
    },
    {
     "data": {
      "image/png": "[encoded data removed]",
      "text/plain": [
       "<Figure size 640x480 with 1 Axes>"
      ]
     },
     "metadata": {},
     "output_type": "display_data"
    },
    {
     "data": {
      "image/png": "[encoded data removed]",
      "text/plain": [
       "<Figure size 640x480 with 1 Axes>"
      ]
     },
     "metadata": {},
     "output_type": "display_data"
    },
    {
     "data": {
      "image/png": "[encoded data removed]",
      "text/plain": [
       "<Figure size 640x480 with 1 Axes>"
      ]
     },
     "metadata": {},
     "output_type": "display_data"
    },
    {
     "data": {
      "image/png": "[encoded data removed]",
      "text/plain": [
       "<Figure size 640x480 with 1 Axes>"
      ]
     },
     "metadata": {},
     "output_type": "display_data"
    },
    {
     "data": {
      "image/png": "[encoded data removed]",
      "text/plain": [
       "<Figure size 640x480 with 1 Axes>"
      ]
     },
     "metadata": {},
     "output_type": "display_data"
    },
    {
     "data": {
      "image/png": "[encoded data removed]",
      "text/plain": [
       "<Figure size 640x480 with 1 Axes>"
      ]
     },
     "metadata": {},
     "output_type": "display_data"
    }
   ],
   "source": [
    "for c in top15_hist[:5]:\n",
    "    sns.kdeplot(data=train_work, x=c, hue=\"class\", common_norm=False); plt.title(f\"PDF: {c}\"); plt.show()\n",
    "    sns.ecdfplot(data=train_work, x=c, hue=\"class\"); plt.title(f\"CDF: {c}\"); plt.show()\n",
    "    sns.boxplot(data=train_work, x=\"class\", y=c); plt.title(f\"Box: {c}\"); plt.show()\n"
   ]
  },
  {
   "cell_type": "markdown",
   "id": "6cb76b2b",
   "metadata": {},
   "source": [
    "# I.VII Feature Reduction"
   ]
  },
  {
   "cell_type": "code",
   "execution_count": 26,
   "id": "02a7b4e2",
   "metadata": {},
   "outputs": [],
   "source": [
    "from datetime import datetime\n",
    "from sklearn.feature_selection import SelectFromModel\n",
    "from sklearn.model_selection import train_test_split, cross_val_score\n",
    "from sklearn.ensemble import RandomForestClassifier, AdaBoostClassifier, VotingClassifier, StackingClassifier\n",
    "from sklearn.metrics import accuracy_score, precision_score, recall_score,f1_score,roc_auc_score, make_scorer\n",
    "from sklearn.linear_model import LogisticRegression\n",
    "from sklearn.exceptions import ConvergenceWarning\n",
    "from sklearn.naive_bayes import GaussianNB, BernoulliNB\n",
    "from sklearn.experimental import enable_halving_search_cv\n",
    "from sklearn.model_selection import HalvingGridSearchCV\n",
    "from sklearn.neighbors import KNeighborsClassifier\n",
    "from sklearn import tree\n",
    "from sklearn.tree import DecisionTreeClassifier, _tree\n",
    "from warnings import simplefilter\n",
    "import warnings\n",
    "from statsmodels.tsa.stattools import adfuller\n",
    "from statsmodels.graphics.tsaplots import plot_acf, plot_pacf\n",
    "from IPython.display import display\n",
    "from matplotlib import pyplot as plt\n",
    "import matplotlib.style\n",
    "\n",
    "# GLOBAL VARIABLES\n",
    "RANDOM_NUMBER=42\n",
    "TEST_SIZE_ASSIGNED = 0.20"
   ]
  },
  {
   "cell_type": "code",
   "execution_count": 28,
   "id": "d250a7c8",
   "metadata": {},
   "outputs": [
    {
     "name": "stdout",
     "output_type": "stream",
     "text": [
      "selector.threshold_ = 0.006134969325153374\n",
      "Number of selected features = 48\n",
      "Shape of Df = (48, 2)\n",
      "Selected Features: Index(['aa_000', 'ag_001', 'ag_002', 'ag_003', 'ag_004', 'ag_006', 'ah_000',\n",
      "       'ai_000', 'al_000', 'am_0', 'an_000', 'ao_000', 'ap_000', 'aq_000',\n",
      "       'ay_005', 'ay_006', 'ay_007', 'ay_008', 'ay_009', 'az_001', 'az_002',\n",
      "       'ba_000', 'ba_004', 'ba_005', 'bb_000', 'bg_000', 'bh_000', 'bi_000',\n",
      "       'bj_000', 'bk_000', 'bt_000', 'bu_000', 'bv_000', 'bx_000', 'cc_000',\n",
      "       'ci_000', 'ck_000', 'cn_000', 'cn_001', 'cn_003', 'cn_004', 'cq_000',\n",
      "       'cs_002', 'dn_000', 'ee_000', 'ee_004', 'ee_005', 'ee_007'],\n",
      "      dtype='object')\n",
      "Reduced Dimension\n"
     ]
    },
    {
     "data": {
      "text/html": [
       "<div>\n",
       "<style scoped>\n",
       "    .dataframe tbody tr th:only-of-type {\n",
       "        vertical-align: middle;\n",
       "    }\n",
       "\n",
       "    .dataframe tbody tr th {\n",
       "        vertical-align: top;\n",
       "    }\n",
       "\n",
       "    .dataframe thead th {\n",
       "        text-align: right;\n",
       "    }\n",
       "</style>\n",
       "<table border=\"1\" class=\"dataframe\">\n",
       "  <thead>\n",
       "    <tr style=\"text-align: right;\">\n",
       "      <th></th>\n",
       "      <th>aa_000</th>\n",
       "      <th>ag_001</th>\n",
       "      <th>ag_002</th>\n",
       "      <th>ag_003</th>\n",
       "      <th>ag_004</th>\n",
       "      <th>ag_006</th>\n",
       "      <th>ah_000</th>\n",
       "      <th>ai_000</th>\n",
       "      <th>al_000</th>\n",
       "      <th>am_0</th>\n",
       "      <th>...</th>\n",
       "      <th>cn_001</th>\n",
       "      <th>cn_003</th>\n",
       "      <th>cn_004</th>\n",
       "      <th>cq_000</th>\n",
       "      <th>cs_002</th>\n",
       "      <th>dn_000</th>\n",
       "      <th>ee_000</th>\n",
       "      <th>ee_004</th>\n",
       "      <th>ee_005</th>\n",
       "      <th>ee_007</th>\n",
       "    </tr>\n",
       "  </thead>\n",
       "  <tbody>\n",
       "    <tr>\n",
       "      <th>0</th>\n",
       "      <td>76698</td>\n",
       "      <td>0.0</td>\n",
       "      <td>0.0</td>\n",
       "      <td>0.0</td>\n",
       "      <td>37250.0</td>\n",
       "      <td>3664156.0</td>\n",
       "      <td>2551696.0</td>\n",
       "      <td>0.0</td>\n",
       "      <td>0.0</td>\n",
       "      <td>0.0</td>\n",
       "      <td>...</td>\n",
       "      <td>0.0</td>\n",
       "      <td>118196.0</td>\n",
       "      <td>1309472.0</td>\n",
       "      <td>6700214.0</td>\n",
       "      <td>267998.0</td>\n",
       "      <td>62282.0</td>\n",
       "      <td>965866.0</td>\n",
       "      <td>721044.0</td>\n",
       "      <td>469792.0</td>\n",
       "      <td>157956.0</td>\n",
       "    </tr>\n",
       "    <tr>\n",
       "      <th>1</th>\n",
       "      <td>33058</td>\n",
       "      <td>0.0</td>\n",
       "      <td>0.0</td>\n",
       "      <td>0.0</td>\n",
       "      <td>18254.0</td>\n",
       "      <td>1720800.0</td>\n",
       "      <td>1393352.0</td>\n",
       "      <td>0.0</td>\n",
       "      <td>0.0</td>\n",
       "      <td>0.0</td>\n",
       "      <td>...</td>\n",
       "      <td>0.0</td>\n",
       "      <td>98644.0</td>\n",
       "      <td>1179502.0</td>\n",
       "      <td>3646660.0</td>\n",
       "      <td>164860.0</td>\n",
       "      <td>33736.0</td>\n",
       "      <td>664504.0</td>\n",
       "      <td>293306.0</td>\n",
       "      <td>245416.0</td>\n",
       "      <td>81140.0</td>\n",
       "    </tr>\n",
       "    <tr>\n",
       "      <th>2</th>\n",
       "      <td>41040</td>\n",
       "      <td>0.0</td>\n",
       "      <td>0.0</td>\n",
       "      <td>0.0</td>\n",
       "      <td>1648.0</td>\n",
       "      <td>1883374.0</td>\n",
       "      <td>1234132.0</td>\n",
       "      <td>0.0</td>\n",
       "      <td>0.0</td>\n",
       "      <td>0.0</td>\n",
       "      <td>...</td>\n",
       "      <td>0.0</td>\n",
       "      <td>33276.0</td>\n",
       "      <td>1215280.0</td>\n",
       "      <td>2673338.0</td>\n",
       "      <td>56362.0</td>\n",
       "      <td>13876.0</td>\n",
       "      <td>262032.0</td>\n",
       "      <td>423992.0</td>\n",
       "      <td>409564.0</td>\n",
       "      <td>158022.0</td>\n",
       "    </tr>\n",
       "    <tr>\n",
       "      <th>3</th>\n",
       "      <td>12</td>\n",
       "      <td>0.0</td>\n",
       "      <td>0.0</td>\n",
       "      <td>318.0</td>\n",
       "      <td>2212.0</td>\n",
       "      <td>1872.0</td>\n",
       "      <td>2668.0</td>\n",
       "      <td>0.0</td>\n",
       "      <td>642.0</td>\n",
       "      <td>3894.0</td>\n",
       "      <td>...</td>\n",
       "      <td>52.0</td>\n",
       "      <td>1894.0</td>\n",
       "      <td>2170.0</td>\n",
       "      <td>21614.0</td>\n",
       "      <td>24.0</td>\n",
       "      <td>232.0</td>\n",
       "      <td>5670.0</td>\n",
       "      <td>58.0</td>\n",
       "      <td>44.0</td>\n",
       "      <td>0.0</td>\n",
       "    </tr>\n",
       "    <tr>\n",
       "      <th>4</th>\n",
       "      <td>60874</td>\n",
       "      <td>0.0</td>\n",
       "      <td>0.0</td>\n",
       "      <td>0.0</td>\n",
       "      <td>43752.0</td>\n",
       "      <td>1800340.0</td>\n",
       "      <td>1974038.0</td>\n",
       "      <td>0.0</td>\n",
       "      <td>0.0</td>\n",
       "      <td>0.0</td>\n",
       "      <td>...</td>\n",
       "      <td>0.0</td>\n",
       "      <td>378910.0</td>\n",
       "      <td>2497104.0</td>\n",
       "      <td>4289260.0</td>\n",
       "      <td>80950.0</td>\n",
       "      <td>44946.0</td>\n",
       "      <td>404740.0</td>\n",
       "      <td>405298.0</td>\n",
       "      <td>347188.0</td>\n",
       "      <td>311560.0</td>\n",
       "    </tr>\n",
       "    <tr>\n",
       "      <th>...</th>\n",
       "      <td>...</td>\n",
       "      <td>...</td>\n",
       "      <td>...</td>\n",
       "      <td>...</td>\n",
       "      <td>...</td>\n",
       "      <td>...</td>\n",
       "      <td>...</td>\n",
       "      <td>...</td>\n",
       "      <td>...</td>\n",
       "      <td>...</td>\n",
       "      <td>...</td>\n",
       "      <td>...</td>\n",
       "      <td>...</td>\n",
       "      <td>...</td>\n",
       "      <td>...</td>\n",
       "      <td>...</td>\n",
       "      <td>...</td>\n",
       "      <td>...</td>\n",
       "      <td>...</td>\n",
       "      <td>...</td>\n",
       "      <td>...</td>\n",
       "    </tr>\n",
       "    <tr>\n",
       "      <th>59995</th>\n",
       "      <td>153002</td>\n",
       "      <td>0.0</td>\n",
       "      <td>0.0</td>\n",
       "      <td>2564.0</td>\n",
       "      <td>59100.0</td>\n",
       "      <td>6015982.0</td>\n",
       "      <td>4880368.0</td>\n",
       "      <td>0.0</td>\n",
       "      <td>1224.0</td>\n",
       "      <td>2114.0</td>\n",
       "      <td>...</td>\n",
       "      <td>860.0</td>\n",
       "      <td>404890.0</td>\n",
       "      <td>3156012.0</td>\n",
       "      <td>10845228.0</td>\n",
       "      <td>138036.0</td>\n",
       "      <td>62846.0</td>\n",
       "      <td>1608808.0</td>\n",
       "      <td>1290398.0</td>\n",
       "      <td>1218244.0</td>\n",
       "      <td>717762.0</td>\n",
       "    </tr>\n",
       "    <tr>\n",
       "      <th>59996</th>\n",
       "      <td>2286</td>\n",
       "      <td>0.0</td>\n",
       "      <td>0.0</td>\n",
       "      <td>0.0</td>\n",
       "      <td>104.0</td>\n",
       "      <td>36564.0</td>\n",
       "      <td>56982.0</td>\n",
       "      <td>0.0</td>\n",
       "      <td>0.0</td>\n",
       "      <td>0.0</td>\n",
       "      <td>...</td>\n",
       "      <td>0.0</td>\n",
       "      <td>61572.0</td>\n",
       "      <td>63554.0</td>\n",
       "      <td>147638.0</td>\n",
       "      <td>3606.0</td>\n",
       "      <td>1066.0</td>\n",
       "      <td>13934.0</td>\n",
       "      <td>21126.0</td>\n",
       "      <td>68424.0</td>\n",
       "      <td>0.0</td>\n",
       "    </tr>\n",
       "    <tr>\n",
       "      <th>59997</th>\n",
       "      <td>112</td>\n",
       "      <td>0.0</td>\n",
       "      <td>0.0</td>\n",
       "      <td>0.0</td>\n",
       "      <td>28.0</td>\n",
       "      <td>11538.0</td>\n",
       "      <td>8784.0</td>\n",
       "      <td>0.0</td>\n",
       "      <td>0.0</td>\n",
       "      <td>0.0</td>\n",
       "      <td>...</td>\n",
       "      <td>0.0</td>\n",
       "      <td>3956.0</td>\n",
       "      <td>14690.0</td>\n",
       "      <td>43738.0</td>\n",
       "      <td>72.0</td>\n",
       "      <td>622.0</td>\n",
       "      <td>15876.0</td>\n",
       "      <td>452.0</td>\n",
       "      <td>144.0</td>\n",
       "      <td>2622.0</td>\n",
       "    </tr>\n",
       "    <tr>\n",
       "      <th>59998</th>\n",
       "      <td>80292</td>\n",
       "      <td>0.0</td>\n",
       "      <td>0.0</td>\n",
       "      <td>0.0</td>\n",
       "      <td>330.0</td>\n",
       "      <td>3251010.0</td>\n",
       "      <td>2634394.0</td>\n",
       "      <td>0.0</td>\n",
       "      <td>0.0</td>\n",
       "      <td>0.0</td>\n",
       "      <td>...</td>\n",
       "      <td>0.0</td>\n",
       "      <td>11460.0</td>\n",
       "      <td>760936.0</td>\n",
       "      <td>6159728.0</td>\n",
       "      <td>333922.0</td>\n",
       "      <td>79230.0</td>\n",
       "      <td>1180714.0</td>\n",
       "      <td>347378.0</td>\n",
       "      <td>225724.0</td>\n",
       "      <td>165070.0</td>\n",
       "    </tr>\n",
       "    <tr>\n",
       "      <th>59999</th>\n",
       "      <td>40222</td>\n",
       "      <td>0.0</td>\n",
       "      <td>0.0</td>\n",
       "      <td>0.0</td>\n",
       "      <td>1226.0</td>\n",
       "      <td>1901140.0</td>\n",
       "      <td>1235850.0</td>\n",
       "      <td>1926.0</td>\n",
       "      <td>0.0</td>\n",
       "      <td>0.0</td>\n",
       "      <td>...</td>\n",
       "      <td>0.0</td>\n",
       "      <td>32.0</td>\n",
       "      <td>497028.0</td>\n",
       "      <td>3076406.0</td>\n",
       "      <td>81228.0</td>\n",
       "      <td>21454.0</td>\n",
       "      <td>409798.0</td>\n",
       "      <td>344546.0</td>\n",
       "      <td>254068.0</td>\n",
       "      <td>158304.0</td>\n",
       "    </tr>\n",
       "  </tbody>\n",
       "</table>\n",
       "<p>58127 rows × 48 columns</p>\n",
       "</div>"
      ],
      "text/plain": [
       "       aa_000  ag_001  ag_002  ag_003   ag_004     ag_006     ah_000  ai_000  \\\n",
       "0       76698     0.0     0.0     0.0  37250.0  3664156.0  2551696.0     0.0   \n",
       "1       33058     0.0     0.0     0.0  18254.0  1720800.0  1393352.0     0.0   \n",
       "2       41040     0.0     0.0     0.0   1648.0  1883374.0  1234132.0     0.0   \n",
       "3          12     0.0     0.0   318.0   2212.0     1872.0     2668.0     0.0   \n",
       "4       60874     0.0     0.0     0.0  43752.0  1800340.0  1974038.0     0.0   \n",
       "...       ...     ...     ...     ...      ...        ...        ...     ...   \n",
       "59995  153002     0.0     0.0  2564.0  59100.0  6015982.0  4880368.0     0.0   \n",
       "59996    2286     0.0     0.0     0.0    104.0    36564.0    56982.0     0.0   \n",
       "59997     112     0.0     0.0     0.0     28.0    11538.0     8784.0     0.0   \n",
       "59998   80292     0.0     0.0     0.0    330.0  3251010.0  2634394.0     0.0   \n",
       "59999   40222     0.0     0.0     0.0   1226.0  1901140.0  1235850.0  1926.0   \n",
       "\n",
       "       al_000    am_0  ...  cn_001    cn_003     cn_004      cq_000    cs_002  \\\n",
       "0         0.0     0.0  ...     0.0  118196.0  1309472.0   6700214.0  267998.0   \n",
       "1         0.0     0.0  ...     0.0   98644.0  1179502.0   3646660.0  164860.0   \n",
       "2         0.0     0.0  ...     0.0   33276.0  1215280.0   2673338.0   56362.0   \n",
       "3       642.0  3894.0  ...    52.0    1894.0     2170.0     21614.0      24.0   \n",
       "4         0.0     0.0  ...     0.0  378910.0  2497104.0   4289260.0   80950.0   \n",
       "...       ...     ...  ...     ...       ...        ...         ...       ...   \n",
       "59995  1224.0  2114.0  ...   860.0  404890.0  3156012.0  10845228.0  138036.0   \n",
       "59996     0.0     0.0  ...     0.0   61572.0    63554.0    147638.0    3606.0   \n",
       "59997     0.0     0.0  ...     0.0    3956.0    14690.0     43738.0      72.0   \n",
       "59998     0.0     0.0  ...     0.0   11460.0   760936.0   6159728.0  333922.0   \n",
       "59999     0.0     0.0  ...     0.0      32.0   497028.0   3076406.0   81228.0   \n",
       "\n",
       "        dn_000     ee_000     ee_004     ee_005    ee_007  \n",
       "0      62282.0   965866.0   721044.0   469792.0  157956.0  \n",
       "1      33736.0   664504.0   293306.0   245416.0   81140.0  \n",
       "2      13876.0   262032.0   423992.0   409564.0  158022.0  \n",
       "3        232.0     5670.0       58.0       44.0       0.0  \n",
       "4      44946.0   404740.0   405298.0   347188.0  311560.0  \n",
       "...        ...        ...        ...        ...       ...  \n",
       "59995  62846.0  1608808.0  1290398.0  1218244.0  717762.0  \n",
       "59996   1066.0    13934.0    21126.0    68424.0       0.0  \n",
       "59997    622.0    15876.0      452.0      144.0    2622.0  \n",
       "59998  79230.0  1180714.0   347378.0   225724.0  165070.0  \n",
       "59999  21454.0   409798.0   344546.0   254068.0  158304.0  \n",
       "\n",
       "[58127 rows x 48 columns]"
      ]
     },
     "execution_count": 28,
     "metadata": {},
     "output_type": "execute_result"
    }
   ],
   "source": [
    "def select_feature_dtc(X, Y):\n",
    "    # get selector.threshold_\n",
    "    selector = SelectFromModel(estimator=RandomForestClassifier(random_state=RANDOM_NUMBER)).fit(X, Y)\n",
    "    print(f'selector.threshold_ = {selector.threshold_}')\n",
    "\n",
    "    feature_name = X.columns[selector.get_support()]\n",
    "    print(f'Number of selected features = {feature_name.shape[0]}')\n",
    "\n",
    "    # put it into a data frame\n",
    "    d = {'columns': X.columns.tolist(),  'support':selector.get_support()}\n",
    "    df = pd.DataFrame(data=d)\n",
    "    df = df[df.support ==True]\n",
    "    df.reset_index(inplace = True, drop=True)\n",
    "    print(f'Shape of Df = {df.shape}')\n",
    "    return df, feature_name\n",
    "best_feature,feature_name = select_feature_dtc(X_all, y_all)\n",
    "print(f\"Selected Features: {feature_name}\")\n",
    "X_dim = X_all[feature_name]\n",
    "print(\"Reduced Dimension\")\n",
    "X_dim"
   ]
  },
  {
   "cell_type": "markdown",
   "id": "57da6e2e",
   "metadata": {},
   "source": [
    "# I.IV Scaling & Stratified Split"
   ]
  },
  {
   "cell_type": "code",
   "execution_count": 31,
   "id": "67af16c8",
   "metadata": {},
   "outputs": [
    {
     "name": "stdout",
     "output_type": "stream",
     "text": [
      "Train shape: (46501, 48), Validation shape: (11626, 48)\n",
      "Class ratio (train): 0.0160, (val): 0.0160\n"
     ]
    }
   ],
   "source": [
    "from sklearn.model_selection import train_test_split\n",
    "\n",
    "RANDOM_STATE = 42\n",
    "target = \"class\"\n",
    "\n",
    "X_train, X_val, y_train, y_val = train_test_split(\n",
    "    X_dim, y_all,\n",
    "    test_size=0.2,\n",
    "    stratify=y_all,\n",
    "    random_state=RANDOM_STATE\n",
    ")\n",
    "\n",
    "print(f\"Train shape: {X_train.shape}, Validation shape: {X_val.shape}\")\n",
    "print(f\"Class ratio (train): {y_train.mean():.4f}, (val): {y_val.mean():.4f}\")"
   ]
  },
  {
   "cell_type": "markdown",
   "id": "e2b0793c",
   "metadata": {},
   "source": [
    "# II.I Baseline Models"
   ]
  },
  {
   "cell_type": "markdown",
   "id": "50080e1a",
   "metadata": {},
   "source": [
    "We’ll test **Logistic Regression, Random Forest, and LightGBM**, all run fast. \n",
    "\n",
    "Then we evaluate ROC-AUC and Expected cost.\n",
    "\n",
    "We search for thresholds to minimize cost; also doing a 5-fold stratified CV Cost."
   ]
  },
  {
   "cell_type": "code",
   "execution_count": 32,
   "id": "af976723",
   "metadata": {},
   "outputs": [],
   "source": [
    "from sklearn.linear_model import LogisticRegression\n",
    "from sklearn.ensemble import RandomForestClassifier\n",
    "from lightgbm import LGBMClassifier\n",
    "from sklearn.metrics import roc_auc_score, confusion_matrix, classification_report\n",
    "import numpy as np, pandas as pd\n",
    "\n",
    "def evaluate_model(model, X_tr, y_tr, X_val, y_val, name=\"Model\", cost_fp=10, cost_fn=500):\n",
    "    y_proba = model.predict_proba(X_val)[:, 1]\n",
    "    y_pred  = (y_proba >= 0.5).astype(int)\n",
    "    auc = roc_auc_score(y_val, y_proba)\n",
    "    tn, fp, fn, tp = confusion_matrix(y_val, y_pred).ravel()\n",
    "    total_cost = fp*cost_fp + fn*cost_fn\n",
    "    print(f\"\\n {name} \")\n",
    "    print(f\"AUC: {auc:.3f}\")\n",
    "    print(f\"FP={fp}, FN={fn}, Cost={total_cost}\")\n",
    "    print(classification_report(y_val, y_pred, digits=3))\n",
    "    return dict(model=name, auc=auc, cost=total_cost, fp=fp, fn=fn)\n",
    "\n",
    "results = []"
   ]
  },
  {
   "cell_type": "code",
   "execution_count": 33,
   "id": "f188ea92",
   "metadata": {},
   "outputs": [
    {
     "name": "stdout",
     "output_type": "stream",
     "text": [
      "\n",
      " Logistic Regression \n",
      "AUC: 0.832\n",
      "FP=126, FN=87, Cost=44760\n",
      "              precision    recall  f1-score   support\n",
      "\n",
      "           0      0.992     0.989     0.991     11440\n",
      "           1      0.440     0.532     0.482       186\n",
      "\n",
      "    accuracy                          0.982     11626\n",
      "   macro avg      0.716     0.761     0.736     11626\n",
      "weighted avg      0.984     0.982     0.983     11626\n",
      "\n"
     ]
    }
   ],
   "source": [
    "logreg = LogisticRegression(max_iter=500, random_state=RANDOM_STATE)\n",
    "logreg.fit(X_train, y_train)\n",
    "results.append(evaluate_model(logreg, X_train, y_train, X_val, y_val, \"Logistic Regression\"))"
   ]
  },
  {
   "cell_type": "code",
   "execution_count": 34,
   "id": "d2efdb94",
   "metadata": {},
   "outputs": [
    {
     "name": "stdout",
     "output_type": "stream",
     "text": [
      "\n",
      " Random Forest \n",
      "AUC: 0.991\n",
      "FP=21, FN=60, Cost=30210\n",
      "              precision    recall  f1-score   support\n",
      "\n",
      "           0      0.995     0.998     0.996     11440\n",
      "           1      0.857     0.677     0.757       186\n",
      "\n",
      "    accuracy                          0.993     11626\n",
      "   macro avg      0.926     0.838     0.877     11626\n",
      "weighted avg      0.993     0.993     0.993     11626\n",
      "\n"
     ]
    }
   ],
   "source": [
    "rf = RandomForestClassifier(n_estimators=200, max_depth=8, random_state=RANDOM_STATE, n_jobs=-1)\n",
    "rf.fit(X_train, y_train)\n",
    "results.append(evaluate_model(rf, X_train, y_train, X_val, y_val, \"Random Forest\"))"
   ]
  },
  {
   "cell_type": "code",
   "execution_count": 35,
   "id": "8a28adaf",
   "metadata": {},
   "outputs": [
    {
     "name": "stdout",
     "output_type": "stream",
     "text": [
      "[LightGBM] [Info] Number of positive: 743, number of negative: 45758\n",
      "[LightGBM] [Info] Auto-choosing col-wise multi-threading, the overhead of testing was 0.003958 seconds.\n",
      "You can set `force_col_wise=true` to remove the overhead.\n",
      "[LightGBM] [Info] Total Bins 12045\n",
      "[LightGBM] [Info] Number of data points in the train set: 46501, number of used features: 48\n",
      "[LightGBM] [Info] [binary:BoostFromScore]: pavg=0.015978 -> initscore=-4.120426\n",
      "[LightGBM] [Info] Start training from score -4.120426\n",
      "[LightGBM] [Warning] No further splits with positive gain, best gain: -inf\n",
      "[LightGBM] [Warning] No further splits with positive gain, best gain: -inf\n",
      "[LightGBM] [Warning] No further splits with positive gain, best gain: -inf\n",
      "[LightGBM] [Warning] No further splits with positive gain, best gain: -inf\n",
      "[LightGBM] [Warning] No further splits with positive gain, best gain: -inf\n",
      "[LightGBM] [Warning] No further splits with positive gain, best gain: -inf\n",
      "[LightGBM] [Warning] No further splits with positive gain, best gain: -inf\n",
      "\n",
      " LightGBM \n",
      "AUC: 0.993\n",
      "FP=15, FN=42, Cost=21150\n",
      "              precision    recall  f1-score   support\n",
      "\n",
      "           0      0.996     0.999     0.998     11440\n",
      "           1      0.906     0.774     0.835       186\n",
      "\n",
      "    accuracy                          0.995     11626\n",
      "   macro avg      0.951     0.886     0.916     11626\n",
      "weighted avg      0.995     0.995     0.995     11626\n",
      "\n"
     ]
    }
   ],
   "source": [
    "lgbm = LGBMClassifier(n_estimators=300, learning_rate=0.05, max_depth=8, random_state=RANDOM_STATE)\n",
    "lgbm.fit(X_train, y_train)\n",
    "results.append(evaluate_model(lgbm, X_train, y_train, X_val, y_val, \"LightGBM\"))"
   ]
  },
  {
   "cell_type": "code",
   "execution_count": 36,
   "id": "058b6999",
   "metadata": {},
   "outputs": [
    {
     "data": {
      "text/html": [
       "<div>\n",
       "<style scoped>\n",
       "    .dataframe tbody tr th:only-of-type {\n",
       "        vertical-align: middle;\n",
       "    }\n",
       "\n",
       "    .dataframe tbody tr th {\n",
       "        vertical-align: top;\n",
       "    }\n",
       "\n",
       "    .dataframe thead th {\n",
       "        text-align: right;\n",
       "    }\n",
       "</style>\n",
       "<table border=\"1\" class=\"dataframe\">\n",
       "  <thead>\n",
       "    <tr style=\"text-align: right;\">\n",
       "      <th></th>\n",
       "      <th>model</th>\n",
       "      <th>auc</th>\n",
       "      <th>cost</th>\n",
       "      <th>fp</th>\n",
       "      <th>fn</th>\n",
       "    </tr>\n",
       "  </thead>\n",
       "  <tbody>\n",
       "    <tr>\n",
       "      <th>0</th>\n",
       "      <td>Logistic Regression</td>\n",
       "      <td>0.831519</td>\n",
       "      <td>44760</td>\n",
       "      <td>126</td>\n",
       "      <td>87</td>\n",
       "    </tr>\n",
       "    <tr>\n",
       "      <th>1</th>\n",
       "      <td>Random Forest</td>\n",
       "      <td>0.990908</td>\n",
       "      <td>30210</td>\n",
       "      <td>21</td>\n",
       "      <td>60</td>\n",
       "    </tr>\n",
       "    <tr>\n",
       "      <th>2</th>\n",
       "      <td>LightGBM</td>\n",
       "      <td>0.992916</td>\n",
       "      <td>21150</td>\n",
       "      <td>15</td>\n",
       "      <td>42</td>\n",
       "    </tr>\n",
       "  </tbody>\n",
       "</table>\n",
       "</div>"
      ],
      "text/plain": [
       "                 model       auc   cost   fp  fn\n",
       "0  Logistic Regression  0.831519  44760  126  87\n",
       "1        Random Forest  0.990908  30210   21  60\n",
       "2             LightGBM  0.992916  21150   15  42"
      ]
     },
     "execution_count": 36,
     "metadata": {},
     "output_type": "execute_result"
    }
   ],
   "source": [
    "pd.DataFrame(results)"
   ]
  },
  {
   "cell_type": "markdown",
   "id": "af4ed780",
   "metadata": {},
   "source": [
    "The LightGBM performs best among parametric models tested.\n",
    "\n",
    "**Why?**\n",
    "\n",
    "- When we have Tabular + sparse & skewed features, tree ensembles like LightGBM shine. They are non-linear, robust to scale, handle wide ranges and monotonic relations. \n",
    "\n",
    "- Our feature filtering reduced noise; ensembles still model complex boundaries.\n",
    "\n",
    "***Note***: The LightGBM “no further splits” warnings are common under extreme class skew and conservative split constraints. We can ease constraints later: min_data_in_leaf, num_leaves, feature_fraction\n"
   ]
  },
  {
   "cell_type": "markdown",
   "id": "460d1142",
   "metadata": {},
   "source": [
    "# II.II Cost-Tuned Threshold\n",
    "\n",
    "Now we sweep the threshold to find the minimum-cost operating point."
   ]
  },
  {
   "cell_type": "code",
   "execution_count": 37,
   "id": "a31a8db6",
   "metadata": {},
   "outputs": [],
   "source": [
    "from sklearn.metrics import roc_curve\n",
    "\n",
    "def tune_threshold(model, X_val, y_val, cost_fp=10, cost_fn=500):\n",
    "    prob = model.predict_proba(X_val)[:, 1]\n",
    "    fpr, tpr, thr = roc_curve(y_val, prob)\n",
    "    # cost = FP*cost_fp + FN*cost_fn\n",
    "    fp = fpr * (1 - y_val.mean()) * len(y_val)\n",
    "    fn = (1 - tpr) * y_val.mean() * len(y_val)\n",
    "    costs = fp*cost_fp + fn*cost_fn\n",
    "    best_idx = np.argmin(costs)\n",
    "    best_thr = thr[best_idx]\n",
    "    print(f\"Best threshold: {best_thr:.3f}, Expected cost: {costs[best_idx]:.1f}\")\n",
    "    return best_thr, pd.DataFrame({\"threshold\": thr, \"cost\": costs})"
   ]
  },
  {
   "cell_type": "code",
   "execution_count": 38,
   "id": "8e67b145",
   "metadata": {},
   "outputs": [
    {
     "name": "stdout",
     "output_type": "stream",
     "text": [
      "Best threshold: 0.074, Expected cost: 34860.0\n",
      "Best threshold: 0.015, Expected cost: 8380.0\n",
      "Best threshold: 0.004, Expected cost: 6520.0\n"
     ]
    }
   ],
   "source": [
    "best_thr_lr, cost_lr = tune_threshold(logreg, X_val, y_val)\n",
    "best_thr_rf, cost_rf = tune_threshold(rf, X_val, y_val)\n",
    "best_thr_lgbm, cost_lgbm = tune_threshold(lgbm, X_val, y_val)\n"
   ]
  },
  {
   "cell_type": "code",
   "execution_count": 39,
   "id": "930b9651",
   "metadata": {},
   "outputs": [
    {
     "data": {
      "image/png": "[encoded data removed]",
      "text/plain": [
       "<Figure size 800x400 with 1 Axes>"
      ]
     },
     "metadata": {},
     "output_type": "display_data"
    }
   ],
   "source": [
    "# Compare visually\n",
    "import matplotlib.pyplot as plt\n",
    "\n",
    "plt.figure(figsize=(8,4))\n",
    "plt.plot(cost_lr[\"threshold\"], cost_lr[\"cost\"], label=\"LogReg\")\n",
    "plt.plot(cost_rf[\"threshold\"], cost_rf[\"cost\"], label=\"RF\")\n",
    "plt.plot(cost_lgbm[\"threshold\"], cost_lgbm[\"cost\"], label=\"LGBM\")\n",
    "plt.xlabel(\"Threshold\")\n",
    "plt.ylabel(\"Total Cost\")\n",
    "plt.legend()\n",
    "plt.title(\"Cost vs Threshold (FN=500, FP=10)\")\n",
    "plt.show()\n"
   ]
  },
  {
   "cell_type": "code",
   "execution_count": 40,
   "id": "c41a4a72",
   "metadata": {},
   "outputs": [],
   "source": [
    "from sklearn.model_selection import StratifiedKFold\n",
    "from sklearn.metrics import roc_auc_score, roc_curve\n",
    "\n",
    "def cv_cost(\n",
    "    model, X, y, *,\n",
    "    cost_fp=10, cost_fn=500, folds=5, random_state=42,\n",
    "    sampler=None,        # pass e.g. SMOTE(sampling_strategy=0.1, random_state=42)\n",
    "    verbose=True\n",
    "):\n",
    "    y = np.asarray(y).ravel()\n",
    "    skf = StratifiedKFold(n_splits=folds, shuffle=True, random_state=random_state)\n",
    "\n",
    "    aucs, best_costs, best_thresholds = [], [], []\n",
    "\n",
    "    for tr_idx, va_idx in skf.split(X, y):\n",
    "        X_tr, X_va = X.iloc[tr_idx], X.iloc[va_idx]\n",
    "        y_tr, y_va = y[tr_idx], y[va_idx]\n",
    "\n",
    "        # optional resampling in-train only\n",
    "        if sampler is not None:\n",
    "            X_tr, y_tr = sampler.fit_resample(X_tr, y_tr)\n",
    "\n",
    "        model.fit(X_tr, y_tr)\n",
    "        prob = model.predict_proba(X_va)[:, 1]\n",
    "\n",
    "        aucs.append(roc_auc_score(y_va, prob))\n",
    "\n",
    "        fpr, tpr, thr = roc_curve(y_va, prob)\n",
    "        P = (y_va == 1).sum()\n",
    "        N = (y_va == 0).sum()\n",
    "        FP = fpr * N\n",
    "        FN = (1 - tpr) * P\n",
    "        costs = cost_fp * FP + cost_fn * FN\n",
    "\n",
    "        best_idx = np.argmin(costs)\n",
    "        best_costs.append(costs[best_idx])\n",
    "        best_thresholds.append(thr[best_idx])\n",
    "\n",
    "    if verbose:\n",
    "        print(f\"Mean AUC = {np.mean(aucs):.3f} ± {np.std(aucs):.3f}\")\n",
    "        print(f\"Mean Cost = {np.mean(best_costs):.1f} ± {np.std(best_costs):.1f}\")\n",
    "        print(f\"Best thresholds per fold: {[round(t, 4) for t in best_thresholds]}\")\n",
    "\n",
    "    return {\n",
    "        \"aucs\": aucs,\n",
    "        \"best_costs\": best_costs,\n",
    "        \"best_thresholds\": best_thresholds,\n",
    "        \"mean_auc\": float(np.mean(aucs)),\n",
    "        \"mean_cost\": float(np.mean(best_costs)),\n",
    "    }\n"
   ]
  },
  {
   "cell_type": "code",
   "execution_count": 55,
   "id": "6af963e7",
   "metadata": {},
   "outputs": [
    {
     "name": "stdout",
     "output_type": "stream",
     "text": [
      "[LightGBM] [Info] Number of positive: 743, number of negative: 45758\n",
      "[LightGBM] [Info] Auto-choosing col-wise multi-threading, the overhead of testing was 0.003156 seconds.\n",
      "You can set `force_col_wise=true` to remove the overhead.\n",
      "[LightGBM] [Info] Total Bins 12057\n",
      "[LightGBM] [Info] Number of data points in the train set: 46501, number of used features: 48\n",
      "[LightGBM] [Info] [binary:BoostFromScore]: pavg=0.015978 -> initscore=-4.120426\n",
      "[LightGBM] [Info] Start training from score -4.120426\n",
      "[LightGBM] [Warning] No further splits with positive gain, best gain: -inf\n",
      "[LightGBM] [Warning] No further splits with positive gain, best gain: -inf\n",
      "[LightGBM] [Warning] No further splits with positive gain, best gain: -inf\n",
      "[LightGBM] [Warning] No further splits with positive gain, best gain: -inf\n",
      "[LightGBM] [Warning] No further splits with positive gain, best gain: -inf\n",
      "[LightGBM] [Warning] No further splits with positive gain, best gain: -inf\n",
      "[LightGBM] [Warning] No further splits with positive gain, best gain: -inf\n",
      "[LightGBM] [Warning] No further splits with positive gain, best gain: -inf\n",
      "[LightGBM] [Warning] No further splits with positive gain, best gain: -inf\n",
      "[LightGBM] [Info] Number of positive: 743, number of negative: 45758\n",
      "[LightGBM] [Info] Auto-choosing col-wise multi-threading, the overhead of testing was 0.003213 seconds.\n",
      "You can set `force_col_wise=true` to remove the overhead.\n",
      "[LightGBM] [Info] Total Bins 12051\n",
      "[LightGBM] [Info] Number of data points in the train set: 46501, number of used features: 48\n",
      "[LightGBM] [Info] [binary:BoostFromScore]: pavg=0.015978 -> initscore=-4.120426\n",
      "[LightGBM] [Info] Start training from score -4.120426\n",
      "[LightGBM] [Warning] No further splits with positive gain, best gain: -inf\n",
      "[LightGBM] [Warning] No further splits with positive gain, best gain: -inf\n",
      "[LightGBM] [Warning] No further splits with positive gain, best gain: -inf\n",
      "[LightGBM] [Warning] No further splits with positive gain, best gain: -inf\n",
      "[LightGBM] [Info] Number of positive: 744, number of negative: 45758\n",
      "[LightGBM] [Info] Auto-choosing col-wise multi-threading, the overhead of testing was 0.003790 seconds.\n",
      "You can set `force_col_wise=true` to remove the overhead.\n",
      "[LightGBM] [Info] Total Bins 12059\n",
      "[LightGBM] [Info] Number of data points in the train set: 46502, number of used features: 48\n",
      "[LightGBM] [Info] [binary:BoostFromScore]: pavg=0.015999 -> initscore=-4.119081\n",
      "[LightGBM] [Info] Start training from score -4.119081\n",
      "[LightGBM] [Warning] No further splits with positive gain, best gain: -inf\n",
      "[LightGBM] [Warning] No further splits with positive gain, best gain: -inf\n",
      "[LightGBM] [Warning] No further splits with positive gain, best gain: -inf\n",
      "[LightGBM] [Warning] No further splits with positive gain, best gain: -inf\n",
      "[LightGBM] [Warning] No further splits with positive gain, best gain: -inf\n",
      "[LightGBM] [Warning] No further splits with positive gain, best gain: -inf\n",
      "[LightGBM] [Warning] No further splits with positive gain, best gain: -inf\n",
      "[LightGBM] [Warning] No further splits with positive gain, best gain: -inf\n",
      "[LightGBM] [Info] Number of positive: 743, number of negative: 45759\n",
      "[LightGBM] [Info] Auto-choosing col-wise multi-threading, the overhead of testing was 0.003145 seconds.\n",
      "You can set `force_col_wise=true` to remove the overhead.\n",
      "[LightGBM] [Info] Total Bins 12046\n",
      "[LightGBM] [Info] Number of data points in the train set: 46502, number of used features: 48\n",
      "[LightGBM] [Info] [binary:BoostFromScore]: pavg=0.015978 -> initscore=-4.120448\n",
      "[LightGBM] [Info] Start training from score -4.120448\n",
      "[LightGBM] [Warning] No further splits with positive gain, best gain: -inf\n",
      "[LightGBM] [Warning] No further splits with positive gain, best gain: -inf\n",
      "[LightGBM] [Warning] No further splits with positive gain, best gain: -inf\n",
      "[LightGBM] [Warning] No further splits with positive gain, best gain: -inf\n",
      "[LightGBM] [Warning] No further splits with positive gain, best gain: -inf\n",
      "[LightGBM] [Warning] No further splits with positive gain, best gain: -inf\n",
      "[LightGBM] [Info] Number of positive: 743, number of negative: 45759\n",
      "[LightGBM] [Info] Auto-choosing col-wise multi-threading, the overhead of testing was 0.002985 seconds.\n",
      "You can set `force_col_wise=true` to remove the overhead.\n",
      "[LightGBM] [Info] Total Bins 12055\n",
      "[LightGBM] [Info] Number of data points in the train set: 46502, number of used features: 48\n",
      "[LightGBM] [Info] [binary:BoostFromScore]: pavg=0.015978 -> initscore=-4.120448\n",
      "[LightGBM] [Info] Start training from score -4.120448\n",
      "[LightGBM] [Warning] No further splits with positive gain, best gain: -inf\n",
      "[LightGBM] [Warning] No further splits with positive gain, best gain: -inf\n",
      "[LightGBM] [Warning] No further splits with positive gain, best gain: -inf\n",
      "[LightGBM] [Warning] No further splits with positive gain, best gain: -inf\n",
      "[LightGBM] [Warning] No further splits with positive gain, best gain: -inf\n",
      "[LightGBM] [Warning] No further splits with positive gain, best gain: -inf\n",
      "[LightGBM] [Warning] No further splits with positive gain, best gain: -inf\n",
      "[LightGBM] [Warning] No further splits with positive gain, best gain: -inf\n",
      "Mean AUC = 0.989 ± 0.005\n",
      "Mean Cost = 6646.0 ± 998.7\n",
      "Best thresholds per fold: [0.003, 0.0032, 0.0029, 0.0063, 0.0023]\n"
     ]
    }
   ],
   "source": [
    "_ = cv_cost(lgbm, X_dim, y_all, cost_fp=10, cost_fn=500, folds=5)\n"
   ]
  },
  {
   "cell_type": "code",
   "execution_count": 56,
   "id": "2e8a692d",
   "metadata": {},
   "outputs": [],
   "source": [
    "from sklearn.metrics import roc_auc_score, confusion_matrix, f1_score, classification_report\n",
    "\n",
    "def evaluate_on_test(model, X_train, y_train, X_test, y_test, best_threshold=None):\n",
    "    \"\"\"\n",
    "    Fits model on full training data and evaluates on test data.\n",
    "    If best_threshold is provided, apply it to probabilities for cost-aware classification.\n",
    "    \"\"\"\n",
    "    model.fit(X_train, y_train)\n",
    "    prob = model.predict_proba(X_test)[:, 1]\n",
    "    \n",
    "    auc = roc_auc_score(y_test, prob)\n",
    "    print(f\"\\n[Test Evaluation] AUC = {auc:.3f}\")\n",
    "\n",
    "    if best_threshold is None:\n",
    "        best_threshold = 0.5  # default\n",
    "    y_pred = (prob >= best_threshold).astype(int)\n",
    "\n",
    "    print(f\"Threshold = {best_threshold:.3f}\")\n",
    "    print(confusion_matrix(y_test, y_pred))\n",
    "    print(classification_report(y_test, y_pred, digits=3))\n",
    "    \n",
    "    # Optional: compute cost\n",
    "    tn, fp, fn, tp = confusion_matrix(y_test, y_pred).ravel()\n",
    "    cost = 10 * fp + 500 * fn\n",
    "    print(f\"Total cost = {cost:.1f} (FP={fp}, FN={fn})\")\n",
    "    \n",
    "    f1_macro = f1_score(y_test, y_pred, average=\"macro\")\n",
    "    return {\"AUC\": auc, \"Macro-F1\": f1_macro, \"Cost\": cost, \"Threshold\": best_threshold}"
   ]
  },
  {
   "cell_type": "code",
   "execution_count": 57,
   "id": "24c1393a",
   "metadata": {},
   "outputs": [
    {
     "name": "stdout",
     "output_type": "stream",
     "text": [
      "[LightGBM] [Info] Number of positive: 929, number of negative: 57198\n",
      "[LightGBM] [Info] Auto-choosing col-wise multi-threading, the overhead of testing was 0.016777 seconds.\n",
      "You can set `force_col_wise=true` to remove the overhead.\n",
      "[LightGBM] [Info] Total Bins 38193\n",
      "[LightGBM] [Info] Number of data points in the train set: 58127, number of used features: 162\n",
      "[LightGBM] [Info] [binary:BoostFromScore]: pavg=0.015982 -> initscore=-4.120165\n",
      "[LightGBM] [Info] Start training from score -4.120165\n",
      "\n",
      "[Test Evaluation] AUC = 0.995\n",
      "Threshold = 0.003\n",
      "[[15247   378]\n",
      " [   10   365]]\n",
      "              precision    recall  f1-score   support\n",
      "\n",
      "           0      0.999     0.976     0.987     15625\n",
      "           1      0.491     0.973     0.653       375\n",
      "\n",
      "    accuracy                          0.976     16000\n",
      "   macro avg      0.745     0.975     0.820     16000\n",
      "weighted avg      0.987     0.976     0.980     16000\n",
      "\n",
      "Total cost = 8780.0 (FP=378, FN=10)\n",
      "{'AUC': 0.9954696533333334, 'Macro-F1': 0.8201938731757411, 'Cost': 8780, 'Threshold': 0.002965104386901142}\n"
     ]
    }
   ],
   "source": [
    "# Step 2 — Take median best threshold from folds\n",
    "best_thr = np.median(_[\"best_thresholds\"])\n",
    "\n",
    "# Step 3 — Final test-set evaluation\n",
    "final_metrics = evaluate_on_test(lgbm, X_all, y_all, x_test_pp, y_test, best_threshold=best_thr)\n",
    "print(final_metrics)"
   ]
  },
  {
   "cell_type": "markdown",
   "id": "5714201e",
   "metadata": {},
   "source": [
    "- **Cost-sensitive decision thresholding** aligns model usage with business risk: heavy FN penalty pushes threshold down.\n",
    "- **Stable CV shows generalization:** small variance in AUC and cost across folds."
   ]
  },
  {
   "cell_type": "markdown",
   "id": "77c8cd2c",
   "metadata": {},
   "source": [
    "# III Addressing Label Imbalance"
   ]
  },
  {
   "cell_type": "markdown",
   "id": "976ef808",
   "metadata": {},
   "source": [
    "The models (especially tree ensembles) already handle imbalance decently, but class imbalance still affects:\n",
    "\n",
    "- how the model learns decision boundaries,\n",
    "\n",
    "- how it estimates probabilities, and\n",
    "\n",
    "- how stable cross-validation thresholds are.\n"
   ]
  },
  {
   "cell_type": "markdown",
   "id": "9e78da18",
   "metadata": {},
   "source": [
    "### III.I Weighted Learning"
   ]
  },
  {
   "cell_type": "code",
   "execution_count": 43,
   "id": "9d4cac57",
   "metadata": {},
   "outputs": [],
   "source": [
    "logreg_weighted = LogisticRegression(class_weight={0:1, 1:59}, max_iter=500, solver='lbfgs')\n",
    "rf_weighted     = RandomForestClassifier(class_weight={0:1, 1:59}, n_estimators=300, random_state=42)"
   ]
  },
  {
   "cell_type": "code",
   "execution_count": 44,
   "id": "6dc0c824",
   "metadata": {},
   "outputs": [
    {
     "name": "stdout",
     "output_type": "stream",
     "text": [
      "Mean AUC = 0.855 ± 0.011\n",
      "Mean Cost = 33076.0 ± 2698.9\n",
      "Best thresholds per fold: [0.0602, 0.0461, 0.0714, 0.0504, 0.0712]\n"
     ]
    }
   ],
   "source": [
    "_ = cv_cost(logreg, X_dim, y_all, cost_fp=10, cost_fn=500)"
   ]
  },
  {
   "cell_type": "markdown",
   "id": "b7c3a24b",
   "metadata": {},
   "source": [
    "Linear model underfits in this highly skewed dataset."
   ]
  },
  {
   "cell_type": "code",
   "execution_count": 45,
   "id": "ce54e0c7",
   "metadata": {},
   "outputs": [
    {
     "name": "stdout",
     "output_type": "stream",
     "text": [
      "Mean AUC = 0.964 ± 0.007\n",
      "Mean Cost = 12138.0 ± 1147.5\n",
      "Best thresholds per fold: [0.6747, 0.4474, 0.6108, 0.5298, 0.4041]\n"
     ]
    }
   ],
   "source": [
    "_ = cv_cost(logreg_weighted, X_dim, y_all, cost_fp=10, cost_fn=500)\n"
   ]
  },
  {
   "cell_type": "markdown",
   "id": "a468c3bf",
   "metadata": {},
   "source": [
    "Reweighting fixed class prior mismatch and improved separation."
   ]
  },
  {
   "cell_type": "code",
   "execution_count": 46,
   "id": "c930a3b6",
   "metadata": {},
   "outputs": [
    {
     "name": "stdout",
     "output_type": "stream",
     "text": [
      "Mean AUC = 0.986 ± 0.004\n",
      "Mean Cost = 8548.0 ± 1057.5\n",
      "Best thresholds per fold: [0.1338, 0.0171, 0.0096, 0.0376, 0.043]\n"
     ]
    }
   ],
   "source": [
    "_ = cv_cost(rf, X_dim, y_all, cost_fp=10, cost_fn=500)"
   ]
  },
  {
   "cell_type": "markdown",
   "id": "77a952d2",
   "metadata": {},
   "source": [
    "Already very strong."
   ]
  },
  {
   "cell_type": "code",
   "execution_count": null,
   "id": "0e816eca",
   "metadata": {},
   "outputs": [
    {
     "ename": "KeyboardInterrupt",
     "evalue": "",
     "output_type": "error",
     "traceback": [
      "\u001b[0;31m---------------------------------------------------------------------------\u001b[0m",
      "\u001b[0;31mKeyboardInterrupt\u001b[0m                         Traceback (most recent call last)",
      "Cell \u001b[0;32mIn[145], line 1\u001b[0m\n\u001b[0;32m----> 1\u001b[0m _ \u001b[38;5;241m=\u001b[39m cv_cost(rf_weighted, X_dim, Y, cost_fp\u001b[38;5;241m=\u001b[39m\u001b[38;5;241m10\u001b[39m, cost_fn\u001b[38;5;241m=\u001b[39m\u001b[38;5;241m500\u001b[39m)\n",
      "Cell \u001b[0;32mIn[139], line 23\u001b[0m, in \u001b[0;36mcv_cost\u001b[0;34m(model, X, y, cost_fp, cost_fn, folds, random_state, sampler, verbose)\u001b[0m\n\u001b[1;32m     20\u001b[0m \u001b[38;5;28;01mif\u001b[39;00m sampler \u001b[38;5;129;01mis\u001b[39;00m \u001b[38;5;129;01mnot\u001b[39;00m \u001b[38;5;28;01mNone\u001b[39;00m:\n\u001b[1;32m     21\u001b[0m     X_tr, y_tr \u001b[38;5;241m=\u001b[39m sampler\u001b[38;5;241m.\u001b[39mfit_resample(X_tr, y_tr)\n\u001b[0;32m---> 23\u001b[0m model\u001b[38;5;241m.\u001b[39mfit(X_tr, y_tr)\n\u001b[1;32m     24\u001b[0m prob \u001b[38;5;241m=\u001b[39m model\u001b[38;5;241m.\u001b[39mpredict_proba(X_va)[:, \u001b[38;5;241m1\u001b[39m]\n\u001b[1;32m     26\u001b[0m aucs\u001b[38;5;241m.\u001b[39mappend(roc_auc_score(y_va, prob))\n",
      "File \u001b[0;32m/opt/anaconda3/lib/python3.12/site-packages/sklearn/base.py:1365\u001b[0m, in \u001b[0;36m_fit_context.<locals>.decorator.<locals>.wrapper\u001b[0;34m(estimator, *args, **kwargs)\u001b[0m\n\u001b[1;32m   1358\u001b[0m     estimator\u001b[38;5;241m.\u001b[39m_validate_params()\n\u001b[1;32m   1360\u001b[0m \u001b[38;5;28;01mwith\u001b[39;00m config_context(\n\u001b[1;32m   1361\u001b[0m     skip_parameter_validation\u001b[38;5;241m=\u001b[39m(\n\u001b[1;32m   1362\u001b[0m         prefer_skip_nested_validation \u001b[38;5;129;01mor\u001b[39;00m global_skip_validation\n\u001b[1;32m   1363\u001b[0m     )\n\u001b[1;32m   1364\u001b[0m ):\n\u001b[0;32m-> 1365\u001b[0m     \u001b[38;5;28;01mreturn\u001b[39;00m fit_method(estimator, \u001b[38;5;241m*\u001b[39margs, \u001b[38;5;241m*\u001b[39m\u001b[38;5;241m*\u001b[39mkwargs)\n",
      "File \u001b[0;32m/opt/anaconda3/lib/python3.12/site-packages/sklearn/ensemble/_forest.py:486\u001b[0m, in \u001b[0;36mBaseForest.fit\u001b[0;34m(self, X, y, sample_weight)\u001b[0m\n\u001b[1;32m    475\u001b[0m trees \u001b[38;5;241m=\u001b[39m [\n\u001b[1;32m    476\u001b[0m     \u001b[38;5;28mself\u001b[39m\u001b[38;5;241m.\u001b[39m_make_estimator(append\u001b[38;5;241m=\u001b[39m\u001b[38;5;28;01mFalse\u001b[39;00m, random_state\u001b[38;5;241m=\u001b[39mrandom_state)\n\u001b[1;32m    477\u001b[0m     \u001b[38;5;28;01mfor\u001b[39;00m i \u001b[38;5;129;01min\u001b[39;00m \u001b[38;5;28mrange\u001b[39m(n_more_estimators)\n\u001b[1;32m    478\u001b[0m ]\n\u001b[1;32m    480\u001b[0m \u001b[38;5;66;03m# Parallel loop: we prefer the threading backend as the Cython code\u001b[39;00m\n\u001b[1;32m    481\u001b[0m \u001b[38;5;66;03m# for fitting the trees is internally releasing the Python GIL\u001b[39;00m\n\u001b[1;32m    482\u001b[0m \u001b[38;5;66;03m# making threading more efficient than multiprocessing in\u001b[39;00m\n\u001b[1;32m    483\u001b[0m \u001b[38;5;66;03m# that case. However, for joblib 0.12+ we respect any\u001b[39;00m\n\u001b[1;32m    484\u001b[0m \u001b[38;5;66;03m# parallel_backend contexts set at a higher level,\u001b[39;00m\n\u001b[1;32m    485\u001b[0m \u001b[38;5;66;03m# since correctness does not rely on using threads.\u001b[39;00m\n\u001b[0;32m--> 486\u001b[0m trees \u001b[38;5;241m=\u001b[39m Parallel(\n\u001b[1;32m    487\u001b[0m     n_jobs\u001b[38;5;241m=\u001b[39m\u001b[38;5;28mself\u001b[39m\u001b[38;5;241m.\u001b[39mn_jobs,\n\u001b[1;32m    488\u001b[0m     verbose\u001b[38;5;241m=\u001b[39m\u001b[38;5;28mself\u001b[39m\u001b[38;5;241m.\u001b[39mverbose,\n\u001b[1;32m    489\u001b[0m     prefer\u001b[38;5;241m=\u001b[39m\u001b[38;5;124m\"\u001b[39m\u001b[38;5;124mthreads\u001b[39m\u001b[38;5;124m\"\u001b[39m,\n\u001b[1;32m    490\u001b[0m )(\n\u001b[1;32m    491\u001b[0m     delayed(_parallel_build_trees)(\n\u001b[1;32m    492\u001b[0m         t,\n\u001b[1;32m    493\u001b[0m         \u001b[38;5;28mself\u001b[39m\u001b[38;5;241m.\u001b[39mbootstrap,\n\u001b[1;32m    494\u001b[0m         X,\n\u001b[1;32m    495\u001b[0m         y,\n\u001b[1;32m    496\u001b[0m         sample_weight,\n\u001b[1;32m    497\u001b[0m         i,\n\u001b[1;32m    498\u001b[0m         \u001b[38;5;28mlen\u001b[39m(trees),\n\u001b[1;32m    499\u001b[0m         verbose\u001b[38;5;241m=\u001b[39m\u001b[38;5;28mself\u001b[39m\u001b[38;5;241m.\u001b[39mverbose,\n\u001b[1;32m    500\u001b[0m         class_weight\u001b[38;5;241m=\u001b[39m\u001b[38;5;28mself\u001b[39m\u001b[38;5;241m.\u001b[39mclass_weight,\n\u001b[1;32m    501\u001b[0m         n_samples_bootstrap\u001b[38;5;241m=\u001b[39mn_samples_bootstrap,\n\u001b[1;32m    502\u001b[0m         missing_values_in_feature_mask\u001b[38;5;241m=\u001b[39mmissing_values_in_feature_mask,\n\u001b[1;32m    503\u001b[0m     )\n\u001b[1;32m    504\u001b[0m     \u001b[38;5;28;01mfor\u001b[39;00m i, t \u001b[38;5;129;01min\u001b[39;00m \u001b[38;5;28menumerate\u001b[39m(trees)\n\u001b[1;32m    505\u001b[0m )\n\u001b[1;32m    507\u001b[0m \u001b[38;5;66;03m# Collect newly grown trees\u001b[39;00m\n\u001b[1;32m    508\u001b[0m \u001b[38;5;28mself\u001b[39m\u001b[38;5;241m.\u001b[39mestimators_\u001b[38;5;241m.\u001b[39mextend(trees)\n",
      "File \u001b[0;32m/opt/anaconda3/lib/python3.12/site-packages/sklearn/utils/parallel.py:82\u001b[0m, in \u001b[0;36mParallel.__call__\u001b[0;34m(self, iterable)\u001b[0m\n\u001b[1;32m     73\u001b[0m warning_filters \u001b[38;5;241m=\u001b[39m warnings\u001b[38;5;241m.\u001b[39mfilters\n\u001b[1;32m     74\u001b[0m iterable_with_config_and_warning_filters \u001b[38;5;241m=\u001b[39m (\n\u001b[1;32m     75\u001b[0m     (\n\u001b[1;32m     76\u001b[0m         _with_config_and_warning_filters(delayed_func, config, warning_filters),\n\u001b[0;32m   (...)\u001b[0m\n\u001b[1;32m     80\u001b[0m     \u001b[38;5;28;01mfor\u001b[39;00m delayed_func, args, kwargs \u001b[38;5;129;01min\u001b[39;00m iterable\n\u001b[1;32m     81\u001b[0m )\n\u001b[0;32m---> 82\u001b[0m \u001b[38;5;28;01mreturn\u001b[39;00m \u001b[38;5;28msuper\u001b[39m()\u001b[38;5;241m.\u001b[39m\u001b[38;5;21m__call__\u001b[39m(iterable_with_config_and_warning_filters)\n",
      "File \u001b[0;32m/opt/anaconda3/lib/python3.12/site-packages/joblib/parallel.py:1918\u001b[0m, in \u001b[0;36mParallel.__call__\u001b[0;34m(self, iterable)\u001b[0m\n\u001b[1;32m   1916\u001b[0m     output \u001b[38;5;241m=\u001b[39m \u001b[38;5;28mself\u001b[39m\u001b[38;5;241m.\u001b[39m_get_sequential_output(iterable)\n\u001b[1;32m   1917\u001b[0m     \u001b[38;5;28mnext\u001b[39m(output)\n\u001b[0;32m-> 1918\u001b[0m     \u001b[38;5;28;01mreturn\u001b[39;00m output \u001b[38;5;28;01mif\u001b[39;00m \u001b[38;5;28mself\u001b[39m\u001b[38;5;241m.\u001b[39mreturn_generator \u001b[38;5;28;01melse\u001b[39;00m \u001b[38;5;28mlist\u001b[39m(output)\n\u001b[1;32m   1920\u001b[0m \u001b[38;5;66;03m# Let's create an ID that uniquely identifies the current call. If the\u001b[39;00m\n\u001b[1;32m   1921\u001b[0m \u001b[38;5;66;03m# call is interrupted early and that the same instance is immediately\u001b[39;00m\n\u001b[1;32m   1922\u001b[0m \u001b[38;5;66;03m# re-used, this id will be used to prevent workers that were\u001b[39;00m\n\u001b[1;32m   1923\u001b[0m \u001b[38;5;66;03m# concurrently finalizing a task from the previous call to run the\u001b[39;00m\n\u001b[1;32m   1924\u001b[0m \u001b[38;5;66;03m# callback.\u001b[39;00m\n\u001b[1;32m   1925\u001b[0m \u001b[38;5;28;01mwith\u001b[39;00m \u001b[38;5;28mself\u001b[39m\u001b[38;5;241m.\u001b[39m_lock:\n",
      "File \u001b[0;32m/opt/anaconda3/lib/python3.12/site-packages/joblib/parallel.py:1847\u001b[0m, in \u001b[0;36mParallel._get_sequential_output\u001b[0;34m(self, iterable)\u001b[0m\n\u001b[1;32m   1845\u001b[0m \u001b[38;5;28mself\u001b[39m\u001b[38;5;241m.\u001b[39mn_dispatched_batches \u001b[38;5;241m+\u001b[39m\u001b[38;5;241m=\u001b[39m \u001b[38;5;241m1\u001b[39m\n\u001b[1;32m   1846\u001b[0m \u001b[38;5;28mself\u001b[39m\u001b[38;5;241m.\u001b[39mn_dispatched_tasks \u001b[38;5;241m+\u001b[39m\u001b[38;5;241m=\u001b[39m \u001b[38;5;241m1\u001b[39m\n\u001b[0;32m-> 1847\u001b[0m res \u001b[38;5;241m=\u001b[39m func(\u001b[38;5;241m*\u001b[39margs, \u001b[38;5;241m*\u001b[39m\u001b[38;5;241m*\u001b[39mkwargs)\n\u001b[1;32m   1848\u001b[0m \u001b[38;5;28mself\u001b[39m\u001b[38;5;241m.\u001b[39mn_completed_tasks \u001b[38;5;241m+\u001b[39m\u001b[38;5;241m=\u001b[39m \u001b[38;5;241m1\u001b[39m\n\u001b[1;32m   1849\u001b[0m \u001b[38;5;28mself\u001b[39m\u001b[38;5;241m.\u001b[39mprint_progress()\n",
      "File \u001b[0;32m/opt/anaconda3/lib/python3.12/site-packages/sklearn/utils/parallel.py:147\u001b[0m, in \u001b[0;36m_FuncWrapper.__call__\u001b[0;34m(self, *args, **kwargs)\u001b[0m\n\u001b[1;32m    145\u001b[0m \u001b[38;5;28;01mwith\u001b[39;00m config_context(\u001b[38;5;241m*\u001b[39m\u001b[38;5;241m*\u001b[39mconfig), warnings\u001b[38;5;241m.\u001b[39mcatch_warnings():\n\u001b[1;32m    146\u001b[0m     warnings\u001b[38;5;241m.\u001b[39mfilters \u001b[38;5;241m=\u001b[39m warning_filters\n\u001b[0;32m--> 147\u001b[0m     \u001b[38;5;28;01mreturn\u001b[39;00m \u001b[38;5;28mself\u001b[39m\u001b[38;5;241m.\u001b[39mfunction(\u001b[38;5;241m*\u001b[39margs, \u001b[38;5;241m*\u001b[39m\u001b[38;5;241m*\u001b[39mkwargs)\n",
      "File \u001b[0;32m/opt/anaconda3/lib/python3.12/site-packages/sklearn/ensemble/_forest.py:188\u001b[0m, in \u001b[0;36m_parallel_build_trees\u001b[0;34m(tree, bootstrap, X, y, sample_weight, tree_idx, n_trees, verbose, class_weight, n_samples_bootstrap, missing_values_in_feature_mask)\u001b[0m\n\u001b[1;32m    185\u001b[0m     \u001b[38;5;28;01melif\u001b[39;00m class_weight \u001b[38;5;241m==\u001b[39m \u001b[38;5;124m\"\u001b[39m\u001b[38;5;124mbalanced_subsample\u001b[39m\u001b[38;5;124m\"\u001b[39m:\n\u001b[1;32m    186\u001b[0m         curr_sample_weight \u001b[38;5;241m*\u001b[39m\u001b[38;5;241m=\u001b[39m compute_sample_weight(\u001b[38;5;124m\"\u001b[39m\u001b[38;5;124mbalanced\u001b[39m\u001b[38;5;124m\"\u001b[39m, y, indices\u001b[38;5;241m=\u001b[39mindices)\n\u001b[0;32m--> 188\u001b[0m     tree\u001b[38;5;241m.\u001b[39m_fit(\n\u001b[1;32m    189\u001b[0m         X,\n\u001b[1;32m    190\u001b[0m         y,\n\u001b[1;32m    191\u001b[0m         sample_weight\u001b[38;5;241m=\u001b[39mcurr_sample_weight,\n\u001b[1;32m    192\u001b[0m         check_input\u001b[38;5;241m=\u001b[39m\u001b[38;5;28;01mFalse\u001b[39;00m,\n\u001b[1;32m    193\u001b[0m         missing_values_in_feature_mask\u001b[38;5;241m=\u001b[39mmissing_values_in_feature_mask,\n\u001b[1;32m    194\u001b[0m     )\n\u001b[1;32m    195\u001b[0m \u001b[38;5;28;01melse\u001b[39;00m:\n\u001b[1;32m    196\u001b[0m     tree\u001b[38;5;241m.\u001b[39m_fit(\n\u001b[1;32m    197\u001b[0m         X,\n\u001b[1;32m    198\u001b[0m         y,\n\u001b[0;32m   (...)\u001b[0m\n\u001b[1;32m    201\u001b[0m         missing_values_in_feature_mask\u001b[38;5;241m=\u001b[39mmissing_values_in_feature_mask,\n\u001b[1;32m    202\u001b[0m     )\n",
      "File \u001b[0;32m/opt/anaconda3/lib/python3.12/site-packages/sklearn/tree/_classes.py:472\u001b[0m, in \u001b[0;36mBaseDecisionTree._fit\u001b[0;34m(self, X, y, sample_weight, check_input, missing_values_in_feature_mask)\u001b[0m\n\u001b[1;32m    461\u001b[0m \u001b[38;5;28;01melse\u001b[39;00m:\n\u001b[1;32m    462\u001b[0m     builder \u001b[38;5;241m=\u001b[39m BestFirstTreeBuilder(\n\u001b[1;32m    463\u001b[0m         splitter,\n\u001b[1;32m    464\u001b[0m         min_samples_split,\n\u001b[0;32m   (...)\u001b[0m\n\u001b[1;32m    469\u001b[0m         \u001b[38;5;28mself\u001b[39m\u001b[38;5;241m.\u001b[39mmin_impurity_decrease,\n\u001b[1;32m    470\u001b[0m     )\n\u001b[0;32m--> 472\u001b[0m builder\u001b[38;5;241m.\u001b[39mbuild(\u001b[38;5;28mself\u001b[39m\u001b[38;5;241m.\u001b[39mtree_, X, y, sample_weight, missing_values_in_feature_mask)\n\u001b[1;32m    474\u001b[0m \u001b[38;5;28;01mif\u001b[39;00m \u001b[38;5;28mself\u001b[39m\u001b[38;5;241m.\u001b[39mn_outputs_ \u001b[38;5;241m==\u001b[39m \u001b[38;5;241m1\u001b[39m \u001b[38;5;129;01mand\u001b[39;00m is_classifier(\u001b[38;5;28mself\u001b[39m):\n\u001b[1;32m    475\u001b[0m     \u001b[38;5;28mself\u001b[39m\u001b[38;5;241m.\u001b[39mn_classes_ \u001b[38;5;241m=\u001b[39m \u001b[38;5;28mself\u001b[39m\u001b[38;5;241m.\u001b[39mn_classes_[\u001b[38;5;241m0\u001b[39m]\n",
      "\u001b[0;31mKeyboardInterrupt\u001b[0m: "
     ]
    }
   ],
   "source": [
    "_ = cv_cost(rf_weighted, X_dim, y_all, cost_fp=10, cost_fn=500)"
   ]
  },
  {
   "cell_type": "markdown",
   "id": "ac25a791",
   "metadata": {},
   "source": [
    "Small cost win (~12% better), big runtime hit."
   ]
  },
  {
   "cell_type": "code",
   "execution_count": 58,
   "id": "477303d9",
   "metadata": {},
   "outputs": [],
   "source": [
    "from lightgbm import LGBMClassifier\n",
    "\n",
    "# weight = N_neg / N_pos ≈ 59 \n",
    "lgbm_weighted = LGBMClassifier(\n",
    "    n_estimators=600,\n",
    "    learning_rate=0.03,\n",
    "    num_leaves=64,\n",
    "    subsample=0.8,\n",
    "    colsample_bytree=0.8,\n",
    "    min_data_in_leaf=50,\n",
    "    scale_pos_weight=59,     # try 20–40 grid if you like\n",
    "    random_state=RANDOM_NUMBER,\n",
    "    n_jobs=-1\n",
    ")"
   ]
  },
  {
   "cell_type": "code",
   "execution_count": 59,
   "id": "43e772d0",
   "metadata": {},
   "outputs": [
    {
     "name": "stdout",
     "output_type": "stream",
     "text": [
      "[LightGBM] [Warning] min_data_in_leaf is set=50, min_child_samples=20 will be ignored. Current value: min_data_in_leaf=50\n",
      "[LightGBM] [Warning] min_data_in_leaf is set=50, min_child_samples=20 will be ignored. Current value: min_data_in_leaf=50\n",
      "[LightGBM] [Info] Number of positive: 743, number of negative: 45758\n",
      "[LightGBM] [Info] Auto-choosing col-wise multi-threading, the overhead of testing was 0.004431 seconds.\n",
      "You can set `force_col_wise=true` to remove the overhead.\n",
      "[LightGBM] [Info] Total Bins 12057\n",
      "[LightGBM] [Info] Number of data points in the train set: 46501, number of used features: 48\n",
      "[LightGBM] [Info] [binary:BoostFromScore]: pavg=0.015978 -> initscore=-4.120426\n",
      "[LightGBM] [Info] Start training from score -4.120426\n",
      "[LightGBM] [Warning] min_data_in_leaf is set=50, min_child_samples=20 will be ignored. Current value: min_data_in_leaf=50\n",
      "[LightGBM] [Warning] min_data_in_leaf is set=50, min_child_samples=20 will be ignored. Current value: min_data_in_leaf=50\n",
      "[LightGBM] [Warning] min_data_in_leaf is set=50, min_child_samples=20 will be ignored. Current value: min_data_in_leaf=50\n",
      "[LightGBM] [Info] Number of positive: 743, number of negative: 45758\n",
      "[LightGBM] [Info] Auto-choosing col-wise multi-threading, the overhead of testing was 0.004330 seconds.\n",
      "You can set `force_col_wise=true` to remove the overhead.\n",
      "[LightGBM] [Info] Total Bins 12051\n",
      "[LightGBM] [Info] Number of data points in the train set: 46501, number of used features: 48\n",
      "[LightGBM] [Info] [binary:BoostFromScore]: pavg=0.015978 -> initscore=-4.120426\n",
      "[LightGBM] [Info] Start training from score -4.120426\n",
      "[LightGBM] [Warning] min_data_in_leaf is set=50, min_child_samples=20 will be ignored. Current value: min_data_in_leaf=50\n",
      "[LightGBM] [Warning] min_data_in_leaf is set=50, min_child_samples=20 will be ignored. Current value: min_data_in_leaf=50\n",
      "[LightGBM] [Warning] min_data_in_leaf is set=50, min_child_samples=20 will be ignored. Current value: min_data_in_leaf=50\n",
      "[LightGBM] [Info] Number of positive: 744, number of negative: 45758\n",
      "[LightGBM] [Info] Auto-choosing col-wise multi-threading, the overhead of testing was 0.003656 seconds.\n",
      "You can set `force_col_wise=true` to remove the overhead.\n",
      "[LightGBM] [Info] Total Bins 12059\n",
      "[LightGBM] [Info] Number of data points in the train set: 46502, number of used features: 48\n",
      "[LightGBM] [Info] [binary:BoostFromScore]: pavg=0.015999 -> initscore=-4.119081\n",
      "[LightGBM] [Info] Start training from score -4.119081\n",
      "[LightGBM] [Warning] min_data_in_leaf is set=50, min_child_samples=20 will be ignored. Current value: min_data_in_leaf=50\n",
      "[LightGBM] [Warning] min_data_in_leaf is set=50, min_child_samples=20 will be ignored. Current value: min_data_in_leaf=50\n",
      "[LightGBM] [Warning] min_data_in_leaf is set=50, min_child_samples=20 will be ignored. Current value: min_data_in_leaf=50\n",
      "[LightGBM] [Info] Number of positive: 743, number of negative: 45759\n",
      "[LightGBM] [Info] Auto-choosing col-wise multi-threading, the overhead of testing was 0.004621 seconds.\n",
      "You can set `force_col_wise=true` to remove the overhead.\n",
      "[LightGBM] [Info] Total Bins 12046\n",
      "[LightGBM] [Info] Number of data points in the train set: 46502, number of used features: 48\n",
      "[LightGBM] [Info] [binary:BoostFromScore]: pavg=0.015978 -> initscore=-4.120448\n",
      "[LightGBM] [Info] Start training from score -4.120448\n",
      "[LightGBM] [Warning] min_data_in_leaf is set=50, min_child_samples=20 will be ignored. Current value: min_data_in_leaf=50\n",
      "[LightGBM] [Warning] min_data_in_leaf is set=50, min_child_samples=20 will be ignored. Current value: min_data_in_leaf=50\n",
      "[LightGBM] [Warning] min_data_in_leaf is set=50, min_child_samples=20 will be ignored. Current value: min_data_in_leaf=50\n",
      "[LightGBM] [Info] Number of positive: 743, number of negative: 45759\n",
      "[LightGBM] [Info] Auto-choosing col-wise multi-threading, the overhead of testing was 0.002890 seconds.\n",
      "You can set `force_col_wise=true` to remove the overhead.\n",
      "[LightGBM] [Info] Total Bins 12055\n",
      "[LightGBM] [Info] Number of data points in the train set: 46502, number of used features: 48\n",
      "[LightGBM] [Info] [binary:BoostFromScore]: pavg=0.015978 -> initscore=-4.120448\n",
      "[LightGBM] [Info] Start training from score -4.120448\n",
      "[LightGBM] [Warning] min_data_in_leaf is set=50, min_child_samples=20 will be ignored. Current value: min_data_in_leaf=50\n",
      "Mean AUC = 0.988 ± 0.004\n",
      "Mean Cost = 6746.0 ± 854.6\n",
      "Best thresholds per fold: [0.0004, 0.0003, 0.0005, 0.0004, 0.0006]\n"
     ]
    }
   ],
   "source": [
    "_ = cv_cost(lgbm_weighted, X_dim, y_all, cost_fp=10, cost_fn=500)\n"
   ]
  },
  {
   "cell_type": "code",
   "execution_count": 60,
   "id": "b52b5b8a",
   "metadata": {},
   "outputs": [
    {
     "name": "stdout",
     "output_type": "stream",
     "text": [
      "[LightGBM] [Warning] min_data_in_leaf is set=50, min_child_samples=20 will be ignored. Current value: min_data_in_leaf=50\n",
      "[LightGBM] [Warning] min_data_in_leaf is set=50, min_child_samples=20 will be ignored. Current value: min_data_in_leaf=50\n",
      "[LightGBM] [Info] Number of positive: 929, number of negative: 57198\n",
      "[LightGBM] [Info] Auto-choosing col-wise multi-threading, the overhead of testing was 0.017779 seconds.\n",
      "You can set `force_col_wise=true` to remove the overhead.\n",
      "[LightGBM] [Info] Total Bins 38185\n",
      "[LightGBM] [Info] Number of data points in the train set: 58127, number of used features: 161\n",
      "[LightGBM] [Info] [binary:BoostFromScore]: pavg=0.015982 -> initscore=-4.120165\n",
      "[LightGBM] [Info] Start training from score -4.120165\n",
      "[LightGBM] [Warning] min_data_in_leaf is set=50, min_child_samples=20 will be ignored. Current value: min_data_in_leaf=50\n",
      "\n",
      "[Test Evaluation] AUC = 0.996\n",
      "Threshold = 0.000\n",
      "[[15269   356]\n",
      " [   14   361]]\n",
      "              precision    recall  f1-score   support\n",
      "\n",
      "           0      0.999     0.977     0.988     15625\n",
      "           1      0.503     0.963     0.661       375\n",
      "\n",
      "    accuracy                          0.977     16000\n",
      "   macro avg      0.751     0.970     0.825     16000\n",
      "weighted avg      0.987     0.977     0.980     16000\n",
      "\n",
      "Total cost = 10560.0 (FP=356, FN=14)\n",
      "{'AUC': 0.9959053653333334, 'Macro-F1': 0.8246005752153027, 'Cost': 10560, 'Threshold': 0.00036920691926474415}\n"
     ]
    }
   ],
   "source": [
    "best_thr = np.median(_[\"best_thresholds\"])\n",
    "\n",
    "final_metrics = evaluate_on_test(lgbm_weighted, X_all, y_all, x_test_pp, y_test, best_threshold=best_thr)\n",
    "print(final_metrics)"
   ]
  },
  {
   "cell_type": "markdown",
   "id": "54c4bc53",
   "metadata": {},
   "source": [
    "Slightly worse cost than just using cost-tuned thresholds. It seems that for tree ensembles, moderate weighting or even no weighting + cost-tuned threshold often suffices."
   ]
  },
  {
   "cell_type": "markdown",
   "id": "45b72626",
   "metadata": {},
   "source": [
    "### III.II Sampling Approaches"
   ]
  },
  {
   "cell_type": "code",
   "execution_count": 49,
   "id": "bf3c8f4b",
   "metadata": {},
   "outputs": [
    {
     "name": "stdout",
     "output_type": "stream",
     "text": [
      "scikit-learn: 1.4.2\n",
      "imbalanced-learn: 0.12.3\n"
     ]
    }
   ],
   "source": [
    "import sklearn, imblearn\n",
    "print(\"scikit-learn:\", sklearn.__version__)\n",
    "print(\"imbalanced-learn:\", imblearn.__version__)\n"
   ]
  },
  {
   "cell_type": "markdown",
   "id": "606d3c49",
   "metadata": {},
   "source": [
    "If we find true categoricals -> SMOTE-NC gets categorical indices and continuous features.\n",
    "\n",
    "If not → we automatically switch to standard SMOTE on float64 arrays, so there’s no attempt to cast synthetic floats back to int64."
   ]
  },
  {
   "cell_type": "code",
   "execution_count": 50,
   "id": "1f1fe082",
   "metadata": {},
   "outputs": [],
   "source": [
    "from imblearn.over_sampling import SMOTENC, SMOTE\n",
    "\n",
    "def make_sampler(X_dim, pos_ratio=0.10, random_state=RANDOM_NUMBER):\n",
    "    return SMOTE(\n",
    "            sampling_strategy=pos_ratio,\n",
    "            random_state=random_state,\n",
    "            k_neighbors=5,\n",
    "        )"
   ]
  },
  {
   "cell_type": "code",
   "execution_count": 51,
   "id": "f0a26089",
   "metadata": {},
   "outputs": [],
   "source": [
    "sampler = make_sampler(X_dim, pos_ratio=0.10, random_state=RANDOM_NUMBER)"
   ]
  },
  {
   "cell_type": "code",
   "execution_count": 52,
   "id": "cde294a1",
   "metadata": {},
   "outputs": [],
   "source": [
    "cat_cols = []\n",
    "for c in X_dim.columns:\n",
    "    vals = X_dim[c].dropna().unique()\n",
    "    if len(vals) <= 5 or set(vals).issubset({0, 1}):\n",
    "        cat_cols.append(c)\n",
    "\n",
    "cat_idx = [X_dim.columns.get_loc(c) for c in cat_cols]\n",
    "\n",
    "# 2) Ensure numeric dtypes without Pandas \"Int64\" (nullable)\n",
    "#    -> use standard numpy dtypes: int64 for categoricals, float64 for continuous\n",
    "cont_cols = [c for c in X_dim.columns if c not in cat_cols]\n",
    "\n",
    "X_dim_fixed = X_dim.copy()\n",
    "# Avoid pandas *nullable* integer dtypes; use numpy dtypes\n",
    "X_dim_fixed[cont_cols] = X_dim_fixed[cont_cols].astype('float64')\n",
    "if len(cat_cols) > 0:\n",
    "    X_dim_fixed[cat_cols]  = X_dim_fixed[cat_cols].astype('int64')\n",
    "\n",
    "# Ensure y is standard int\n",
    "Y_fixed = pd.Series(np.asarray(y_all).ravel(), name='target').astype('int64')\n"
   ]
  },
  {
   "cell_type": "code",
   "execution_count": 53,
   "id": "8f7f0ce7",
   "metadata": {},
   "outputs": [
    {
     "name": "stdout",
     "output_type": "stream",
     "text": [
      "[LightGBM] [Info] Number of positive: 4575, number of negative: 45758\n",
      "[LightGBM] [Info] Auto-choosing col-wise multi-threading, the overhead of testing was 0.006471 seconds.\n",
      "You can set `force_col_wise=true` to remove the overhead.\n",
      "[LightGBM] [Info] Total Bins 12240\n",
      "[LightGBM] [Info] Number of data points in the train set: 50333, number of used features: 48\n",
      "[LightGBM] [Info] [binary:BoostFromScore]: pavg=0.090895 -> initscore=-2.302760\n",
      "[LightGBM] [Info] Start training from score -2.302760\n",
      "[LightGBM] [Info] Number of positive: 4575, number of negative: 45758\n",
      "[LightGBM] [Info] Auto-choosing col-wise multi-threading, the overhead of testing was 0.006083 seconds.\n",
      "You can set `force_col_wise=true` to remove the overhead.\n",
      "[LightGBM] [Info] Total Bins 12240\n",
      "[LightGBM] [Info] Number of data points in the train set: 50333, number of used features: 48\n",
      "[LightGBM] [Info] [binary:BoostFromScore]: pavg=0.090895 -> initscore=-2.302760\n",
      "[LightGBM] [Info] Start training from score -2.302760\n",
      "[LightGBM] [Info] Number of positive: 4575, number of negative: 45758\n",
      "[LightGBM] [Info] Auto-choosing col-wise multi-threading, the overhead of testing was 0.008067 seconds.\n",
      "You can set `force_col_wise=true` to remove the overhead.\n",
      "[LightGBM] [Info] Total Bins 12240\n",
      "[LightGBM] [Info] Number of data points in the train set: 50333, number of used features: 48\n",
      "[LightGBM] [Info] [binary:BoostFromScore]: pavg=0.090895 -> initscore=-2.302760\n",
      "[LightGBM] [Info] Start training from score -2.302760\n",
      "[LightGBM] [Info] Number of positive: 4575, number of negative: 45759\n",
      "[LightGBM] [Info] Auto-choosing col-wise multi-threading, the overhead of testing was 0.004782 seconds.\n",
      "You can set `force_col_wise=true` to remove the overhead.\n",
      "[LightGBM] [Info] Total Bins 12240\n",
      "[LightGBM] [Info] Number of data points in the train set: 50334, number of used features: 48\n",
      "[LightGBM] [Info] [binary:BoostFromScore]: pavg=0.090893 -> initscore=-2.302782\n",
      "[LightGBM] [Info] Start training from score -2.302782\n",
      "[LightGBM] [Info] Number of positive: 4575, number of negative: 45759\n",
      "[LightGBM] [Info] Auto-choosing col-wise multi-threading, the overhead of testing was 0.004484 seconds.\n",
      "You can set `force_col_wise=true` to remove the overhead.\n",
      "[LightGBM] [Info] Total Bins 12240\n",
      "[LightGBM] [Info] Number of data points in the train set: 50334, number of used features: 48\n",
      "[LightGBM] [Info] [binary:BoostFromScore]: pavg=0.090893 -> initscore=-2.302782\n",
      "[LightGBM] [Info] Start training from score -2.302782\n",
      "Mean AUC = 0.988 ± 0.004\n",
      "Mean Cost = 7194.0 ± 331.4\n",
      "Best thresholds per fold: [0.0205, 0.0132, 0.0374, 0.0108, 0.0086]\n"
     ]
    }
   ],
   "source": [
    "_ = cv_cost(lgbm,X_dim_fixed, Y_fixed, sampler=sampler, cost_fp=10, cost_fn=500, folds=5, random_state=RANDOM_NUMBER)"
   ]
  },
  {
   "cell_type": "code",
   "execution_count": 54,
   "id": "95e5732e",
   "metadata": {},
   "outputs": [
    {
     "name": "stdout",
     "output_type": "stream",
     "text": [
      "Positives in fold: 186\n",
      "Positives in fold: 186\n",
      "Positives in fold: 185\n",
      "Positives in fold: 186\n",
      "Positives in fold: 186\n"
     ]
    }
   ],
   "source": [
    "# Inspect how many positives per fold to keep k_neighbors safe (>= k+1)\n",
    "# (With ~800 pos overall, ~160 per fold; k=5 is fine.)\n",
    "from sklearn.model_selection import StratifiedKFold\n",
    "skf = StratifiedKFold(n_splits=5, shuffle=True, random_state=42)\n",
    "for _, va_idx in skf.split(X_dim_fixed, Y_fixed):\n",
    "    print(\"Positives in fold:\", int(Y_fixed.iloc[va_idx].sum()))\n"
   ]
  },
  {
   "cell_type": "markdown",
   "id": "5a1b493b",
   "metadata": {},
   "source": [
    "# IV.I Root Cause Analysis & Explainability"
   ]
  }
 ],
 "metadata": {
  "kernelspec": {
   "display_name": "base",
   "language": "python",
   "name": "python3"
  },
  "language_info": {
   "codemirror_mode": {
    "name": "ipython",
    "version": 3
   },
   "file_extension": ".py",
   "mimetype": "text/x-python",
   "name": "python",
   "nbconvert_exporter": "python",
   "pygments_lexer": "ipython3",
   "version": "3.12.2"
  }
 },
 "nbformat": 4,
 "nbformat_minor": 5
}
